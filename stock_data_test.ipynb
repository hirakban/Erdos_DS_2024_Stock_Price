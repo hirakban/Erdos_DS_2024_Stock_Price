{
 "cells": [
  {
   "cell_type": "code",
   "execution_count": 1,
   "id": "ecbae9e9-8159-42e6-9428-5736df134927",
   "metadata": {},
   "outputs": [],
   "source": [
    "import numpy as np\n",
    "import pandas as pd\n",
    "import matplotlib.pyplot as plt\n",
    "import yfinance as yf"
   ]
  },
  {
   "cell_type": "code",
   "execution_count": 14,
   "id": "0875c1b2-62ed-45b6-b98e-1607a91ab019",
   "metadata": {},
   "outputs": [
    {
     "data": {
      "text/plain": [
       "[{'uuid': '8a0f7629-dd32-3689-ac8d-fb86f169ef59',\n",
       "  'title': \"This 'Big Daddy' Smashes All Mag 7 Stocks Except Nvidia. Now Watch For This.\",\n",
       "  'publisher': \"Investor's Business Daily\",\n",
       "  'link': 'https://finance.yahoo.com/m/8a0f7629-dd32-3689-ac8d-fb86f169ef59/this-%27big-daddy%27-smashes-all.html',\n",
       "  'providerPublishTime': 1729195256,\n",
       "  'type': 'STORY',\n",
       "  'thumbnail': {'resolutions': [{'url': 'https://s.yimg.com/uu/api/res/1.2/D5Yh6oQYDz2mVNhk0Ij3Bw--~B/aD01NjM7dz0xMDAwO2FwcGlkPXl0YWNoeW9u/https://media.zenfs.com/en/ibd.com/1127ee64d0bb212a972bb838d6784038',\n",
       "     'width': 1000,\n",
       "     'height': 563,\n",
       "     'tag': 'original'},\n",
       "    {'url': 'https://s.yimg.com/uu/api/res/1.2/2sVDcl0Zf3k6oLyoWz0eoQ--~B/Zmk9ZmlsbDtoPTE0MDtweW9mZj0wO3c9MTQwO2FwcGlkPXl0YWNoeW9u/https://media.zenfs.com/en/ibd.com/1127ee64d0bb212a972bb838d6784038',\n",
       "     'width': 140,\n",
       "     'height': 140,\n",
       "     'tag': '140x140'}]},\n",
       "  'relatedTickers': ['META', 'NVDA', 'MSFT', 'GDDY']},\n",
       " {'uuid': '77435ded-42ab-3e1c-b32e-36ae2c7f4c1a',\n",
       "  'title': 'Sector Update: Tech Stocks Gain Late Afternoon',\n",
       "  'publisher': 'MT Newswires',\n",
       "  'link': 'https://finance.yahoo.com/news/sector-tech-stocks-gain-afternoon-195337226.html',\n",
       "  'providerPublishTime': 1729194817,\n",
       "  'type': 'STORY',\n",
       "  'relatedTickers': ['MSFT']},\n",
       " {'uuid': '1da199b3-4eab-34e2-905a-fed6bc4def53',\n",
       "  'title': 'Update: Microsoft-Backed OpenAI, Bain Expand Partnership to Sell AI Tools to Bain Clients',\n",
       "  'publisher': 'MT Newswires',\n",
       "  'link': 'https://finance.yahoo.com/news/microsoft-backed-openai-bain-expand-194446280.html',\n",
       "  'providerPublishTime': 1729194286,\n",
       "  'type': 'STORY',\n",
       "  'relatedTickers': ['MSFT']},\n",
       " {'uuid': 'fcf6c0b3-e23e-381c-a17d-9986e637ced0',\n",
       "  'title': 'A Sam Altman-backed nuclear power stock soared 150% in a month',\n",
       "  'publisher': 'Quartz',\n",
       "  'link': 'https://finance.yahoo.com/m/fcf6c0b3-e23e-381c-a17d-9986e637ced0/a-sam-altman-backed-nuclear.html',\n",
       "  'providerPublishTime': 1729193700,\n",
       "  'type': 'STORY',\n",
       "  'thumbnail': {'resolutions': [{'url': 'https://s.yimg.com/uu/api/res/1.2/i_uYZBedoOkVa01.MoOO9w--~B/aD00MjQ7dz02MzY7YXBwaWQ9eXRhY2h5b24-/https://media.zenfs.com/en/quartz.com/7a839d1ea4a25c8ab2bb968e70cd07d9',\n",
       "     'width': 636,\n",
       "     'height': 424,\n",
       "     'tag': 'original'},\n",
       "    {'url': 'https://s.yimg.com/uu/api/res/1.2/JwWQLDzUSu6LsLyHW_6WXw--~B/Zmk9ZmlsbDtoPTE0MDtweW9mZj0wO3c9MTQwO2FwcGlkPXl0YWNoeW9u/https://media.zenfs.com/en/quartz.com/7a839d1ea4a25c8ab2bb968e70cd07d9',\n",
       "     'width': 140,\n",
       "     'height': 140,\n",
       "     'tag': '140x140'}]},\n",
       "  'relatedTickers': ['MSFT']},\n",
       " {'uuid': '63e73dca-3cd0-392c-9df0-de455a15bb00',\n",
       "  'title': 'Sector Update: Tech',\n",
       "  'publisher': 'MT Newswires',\n",
       "  'link': 'https://finance.yahoo.com/news/sector-tech-192857917.html',\n",
       "  'providerPublishTime': 1729193337,\n",
       "  'type': 'STORY',\n",
       "  'relatedTickers': ['MSFT']},\n",
       " {'uuid': 'b18ca420-e3ac-3d9f-8a45-4b2c83f31d7e',\n",
       "  'title': 'Market Chatter: Microsoft-Backed OpenAI, Bain Expand Partnership to Sell AI Tools to Bain Clients',\n",
       "  'publisher': 'MT Newswires',\n",
       "  'link': 'https://finance.yahoo.com/news/market-chatter-microsoft-backed-openai-184453986.html',\n",
       "  'providerPublishTime': 1729190693,\n",
       "  'type': 'STORY',\n",
       "  'relatedTickers': ['MSFT']},\n",
       " {'uuid': '9fef7d59-f6af-3ae8-b6c2-f0fc5d3be5ba',\n",
       "  'title': 'Microsoft Azure, Office 365, and Gaming To Drive Low Double Digit Growth: Analyst',\n",
       "  'publisher': 'Benzinga',\n",
       "  'link': 'https://finance.yahoo.com/news/microsoft-azure-office-365-gaming-183558281.html',\n",
       "  'providerPublishTime': 1729190158,\n",
       "  'type': 'STORY',\n",
       "  'thumbnail': {'resolutions': [{'url': 'https://s.yimg.com/uu/api/res/1.2/G8AhhuoBn_A.FclZc3_0.A--~B/aD01NzU7dz0xMDIyO2FwcGlkPXl0YWNoeW9u/https://media.zenfs.com/en/Benzinga/cb3d19f4afb1d1b042f977186fc7bbfe',\n",
       "     'width': 1022,\n",
       "     'height': 575,\n",
       "     'tag': 'original'},\n",
       "    {'url': 'https://s.yimg.com/uu/api/res/1.2/LJFVXsHFipJnpVKHRRyNvw--~B/Zmk9ZmlsbDtoPTE0MDtweW9mZj0wO3c9MTQwO2FwcGlkPXl0YWNoeW9u/https://media.zenfs.com/en/Benzinga/cb3d19f4afb1d1b042f977186fc7bbfe',\n",
       "     'width': 140,\n",
       "     'height': 140,\n",
       "     'tag': '140x140'}]},\n",
       "  'relatedTickers': ['MSFT']},\n",
       " {'uuid': 'dcbf6932-9ccc-32de-838e-6f40eae8e375',\n",
       "  'title': 'Marc Benioff warns that AI, while useful, is overhyped and partly blames Microsoft',\n",
       "  'publisher': 'TechCrunch',\n",
       "  'link': 'https://finance.yahoo.com/m/dcbf6932-9ccc-32de-838e-6f40eae8e375/marc-benioff-warns-that-ai%2C.html',\n",
       "  'providerPublishTime': 1729189413,\n",
       "  'type': 'STORY',\n",
       "  'relatedTickers': ['MSFT']}]"
      ]
     },
     "execution_count": 14,
     "metadata": {},
     "output_type": "execute_result"
    }
   ],
   "source": [
    "msft = yf.Ticker(\"MSFT\")\n",
    "\n",
    "# get all stock info\n",
    "info = msft.info\n",
    "\n",
    "# get historical market data\n",
    "hist = msft.history(period=\"max\")\n",
    "\n",
    "# # show meta information about the history (requires history() to be called first)\n",
    "# msft.history_metadata\n",
    "\n",
    "# # show actions (dividends, splits, capital gains)\n",
    "# msft.actions\n",
    "# msft.dividends\n",
    "# msft.splits\n",
    "# msft.capital_gains  # only for mutual funds & etfs\n",
    "# # show share count\n",
    "# msft.get_shares_full(start=\"2022-01-01\", end=None)\n",
    "\n",
    "# # show financials:\n",
    "# msft.calendar\n",
    "# msft.sec_filings\n",
    "# # - income statement\n",
    "# msft.income_stmt\n",
    "# msft.quarterly_income_stmt\n",
    "# # - balance sheet\n",
    "# msft.balance_sheet\n",
    "# msft.quarterly_balance_sheet\n",
    "# # - cash flow statement\n",
    "# msft.cashflow\n",
    "# msft.quarterly_cashflow\n",
    "# # see `Ticker.get_income_stmt()` for more options\n",
    "\n",
    "# # show holders\n",
    "# msft.major_holders\n",
    "# msft.institutional_holders\n",
    "# msft.mutualfund_holders\n",
    "# msft.insider_transactions\n",
    "# msft.insider_purchases\n",
    "# msft.insider_roster_holders\n",
    "\n",
    "# msft.sustainability\n",
    "\n",
    "# # show recommendations\n",
    "# msft.recommendations\n",
    "# msft.recommendations_summary\n",
    "# msft.upgrades_downgrades\n",
    "\n",
    "# # show analysts data\n",
    "# msft.analyst_price_targets\n",
    "# msft.earnings_estimate\n",
    "# msft.revenue_estimate\n",
    "# msft.earnings_history\n",
    "# msft.eps_trend\n",
    "# msft.eps_revisions\n",
    "# msft.growth_estimates\n",
    "\n",
    "# # Show future and historic earnings dates, returns at most next 4 quarters and last 8 quarters by default.\n",
    "# # Note: If more are needed use msft.get_earnings_dates(limit=XX) with increased limit argument.\n",
    "# msft.earnings_dates\n",
    "\n",
    "# # show ISIN code - *experimental*\n",
    "# # ISIN = International Securities Identification Number\n",
    "# msft.isin\n",
    "\n",
    "# # show options expirations\n",
    "# msft.options\n",
    "\n",
    "# show news\n",
    "msft.news\n",
    "\n",
    "# # get option chain for specific expiration\n",
    "# # opt = msft.option_chain('YYYY-MM-DD')\n",
    "# # data available via: opt.calls, opt.puts"
   ]
  },
  {
   "cell_type": "code",
   "execution_count": 3,
   "id": "f24ff731-2573-4f36-8419-fd39b7e59e60",
   "metadata": {},
   "outputs": [
    {
     "data": {
      "text/plain": [
       "Index(['Open', 'High', 'Low', 'Close', 'Volume', 'Dividends', 'Stock Splits'], dtype='object')"
      ]
     },
     "execution_count": 3,
     "metadata": {},
     "output_type": "execute_result"
    }
   ],
   "source": [
    "# info.keys()\n",
    "hist.keys()"
   ]
  },
  {
   "cell_type": "code",
   "execution_count": 15,
   "id": "199521fe-69f9-496f-b07f-9eafbd3fc157",
   "metadata": {},
   "outputs": [
    {
     "data": {
      "text/plain": [
       "<Axes: xlabel='Date'>"
      ]
     },
     "execution_count": 15,
     "metadata": {},
     "output_type": "execute_result"
    },
    {
     "data": {
      "image/png": "[encoded data removed]",
      "text/plain": [
       "<Figure size 640x480 with 1 Axes>"
      ]
     },
     "metadata": {},
     "output_type": "display_data"
    }
   ],
   "source": [
    "hist['Open'].plot()\n",
    "hist['Close'].plot()\n",
    "# hist['Dividends'].plot()\n",
    "# hist['Stock Splits'].plot()"
   ]
  },
  {
   "cell_type": "markdown",
   "id": "f825bbc9-0f41-4160-a1b6-9ebace75b439",
   "metadata": {},
   "source": [
    "## Get Historical Stock Data"
   ]
  },
  {
   "cell_type": "code",
   "execution_count": 12,
   "id": "80a3bff8-1f58-423b-b974-0c65e24c4f94",
   "metadata": {},
   "outputs": [],
   "source": [
    "stock_list = ['MSFT', \n",
    "              \"GOOG\", \n",
    "              \"NVDA\", \n",
    "              \"BRK.A\",\n",
    "              \"AAPL\", \n",
    "              \"JPM\",\n",
    "              \"AMZ\", \n",
    "              \"JNJ\", \n",
    "              \"GE\", \n",
    "              \"RTX\",\n",
    "              \"PFE\"]"
   ]
  },
  {
   "cell_type": "code",
   "execution_count": 13,
   "id": "56a49182-1410-4ffb-b65e-4847b93c84bb",
   "metadata": {},
   "outputs": [
    {
     "name": "stderr",
     "output_type": "stream",
     "text": [
      "[*********************100%***********************]  1 of 1 completed\n",
      "\n",
      "1 Failed download:\n",
      "['MSFT']: ReadTimeout(ReadTimeoutError(\"HTTPSConnectionPool(host='query2.finance.yahoo.com', port=443): Read timed out. (read timeout=10)\"))\n"
     ]
    },
    {
     "ename": "KeyError",
     "evalue": "'MSFT'",
     "output_type": "error",
     "traceback": [
      "\u001b[0;31m---------------------------------------------------------------------------\u001b[0m",
      "\u001b[0;31mKeyError\u001b[0m                                  Traceback (most recent call last)",
      "File \u001b[0;32m/opt/anaconda3/envs/SIGNS_2024/lib/python3.12/site-packages/pandas/core/indexes/base.py:3805\u001b[0m, in \u001b[0;36mIndex.get_loc\u001b[0;34m(self, key)\u001b[0m\n\u001b[1;32m   3804\u001b[0m \u001b[38;5;28;01mtry\u001b[39;00m:\n\u001b[0;32m-> 3805\u001b[0m     \u001b[38;5;28;01mreturn\u001b[39;00m \u001b[38;5;28;43mself\u001b[39;49m\u001b[38;5;241;43m.\u001b[39;49m\u001b[43m_engine\u001b[49m\u001b[38;5;241;43m.\u001b[39;49m\u001b[43mget_loc\u001b[49m\u001b[43m(\u001b[49m\u001b[43mcasted_key\u001b[49m\u001b[43m)\u001b[49m\n\u001b[1;32m   3806\u001b[0m \u001b[38;5;28;01mexcept\u001b[39;00m \u001b[38;5;167;01mKeyError\u001b[39;00m \u001b[38;5;28;01mas\u001b[39;00m err:\n",
      "File \u001b[0;32mindex.pyx:167\u001b[0m, in \u001b[0;36mpandas._libs.index.IndexEngine.get_loc\u001b[0;34m()\u001b[0m\n",
      "File \u001b[0;32mindex.pyx:196\u001b[0m, in \u001b[0;36mpandas._libs.index.IndexEngine.get_loc\u001b[0;34m()\u001b[0m\n",
      "File \u001b[0;32mpandas/_libs/hashtable_class_helper.pxi:7081\u001b[0m, in \u001b[0;36mpandas._libs.hashtable.PyObjectHashTable.get_item\u001b[0;34m()\u001b[0m\n",
      "File \u001b[0;32mpandas/_libs/hashtable_class_helper.pxi:7089\u001b[0m, in \u001b[0;36mpandas._libs.hashtable.PyObjectHashTable.get_item\u001b[0;34m()\u001b[0m\n",
      "\u001b[0;31mKeyError\u001b[0m: 'MSFT'",
      "\nThe above exception was the direct cause of the following exception:\n",
      "\u001b[0;31mKeyError\u001b[0m                                  Traceback (most recent call last)",
      "Cell \u001b[0;32mIn[13], line 5\u001b[0m\n\u001b[1;32m      3\u001b[0m \u001b[38;5;28;01mfor\u001b[39;00m s \u001b[38;5;129;01min\u001b[39;00m stock_list:\n\u001b[1;32m      4\u001b[0m     tkr \u001b[38;5;241m=\u001b[39m yf\u001b[38;5;241m.\u001b[39mTickers(s)\n\u001b[0;32m----> 5\u001b[0m     history \u001b[38;5;241m=\u001b[39m \u001b[43mtkr\u001b[49m\u001b[38;5;241;43m.\u001b[39;49m\u001b[43mhistory\u001b[49m\u001b[43m(\u001b[49m\u001b[43mperiod\u001b[49m\u001b[43m \u001b[49m\u001b[38;5;241;43m=\u001b[39;49m\u001b[43m \u001b[49m\u001b[38;5;124;43m\"\u001b[39;49m\u001b[38;5;124;43mmax\u001b[39;49m\u001b[38;5;124;43m\"\u001b[39;49m\u001b[43m)\u001b[49m\n\u001b[1;32m      6\u001b[0m     hist[s] \u001b[38;5;241m=\u001b[39m history\n",
      "File \u001b[0;32m/opt/anaconda3/envs/SIGNS_2024/lib/python3.12/site-packages/yfinance/tickers.py:52\u001b[0m, in \u001b[0;36mTickers.history\u001b[0;34m(self, period, interval, start, end, prepost, actions, auto_adjust, repair, proxy, threads, group_by, progress, timeout, **kwargs)\u001b[0m\n\u001b[1;32m     45\u001b[0m \u001b[38;5;28;01mdef\u001b[39;00m \u001b[38;5;21mhistory\u001b[39m(\u001b[38;5;28mself\u001b[39m, period\u001b[38;5;241m=\u001b[39m\u001b[38;5;124m\"\u001b[39m\u001b[38;5;124m1mo\u001b[39m\u001b[38;5;124m\"\u001b[39m, interval\u001b[38;5;241m=\u001b[39m\u001b[38;5;124m\"\u001b[39m\u001b[38;5;124m1d\u001b[39m\u001b[38;5;124m\"\u001b[39m,\n\u001b[1;32m     46\u001b[0m             start\u001b[38;5;241m=\u001b[39m\u001b[38;5;28;01mNone\u001b[39;00m, end\u001b[38;5;241m=\u001b[39m\u001b[38;5;28;01mNone\u001b[39;00m, prepost\u001b[38;5;241m=\u001b[39m\u001b[38;5;28;01mFalse\u001b[39;00m,\n\u001b[1;32m     47\u001b[0m             actions\u001b[38;5;241m=\u001b[39m\u001b[38;5;28;01mTrue\u001b[39;00m, auto_adjust\u001b[38;5;241m=\u001b[39m\u001b[38;5;28;01mTrue\u001b[39;00m, repair\u001b[38;5;241m=\u001b[39m\u001b[38;5;28;01mFalse\u001b[39;00m,\n\u001b[1;32m     48\u001b[0m             proxy\u001b[38;5;241m=\u001b[39m\u001b[38;5;28;01mNone\u001b[39;00m,\n\u001b[1;32m     49\u001b[0m             threads\u001b[38;5;241m=\u001b[39m\u001b[38;5;28;01mTrue\u001b[39;00m, group_by\u001b[38;5;241m=\u001b[39m\u001b[38;5;124m'\u001b[39m\u001b[38;5;124mcolumn\u001b[39m\u001b[38;5;124m'\u001b[39m, progress\u001b[38;5;241m=\u001b[39m\u001b[38;5;28;01mTrue\u001b[39;00m,\n\u001b[1;32m     50\u001b[0m             timeout\u001b[38;5;241m=\u001b[39m\u001b[38;5;241m10\u001b[39m, \u001b[38;5;241m*\u001b[39m\u001b[38;5;241m*\u001b[39mkwargs):\n\u001b[0;32m---> 52\u001b[0m     \u001b[38;5;28;01mreturn\u001b[39;00m \u001b[38;5;28;43mself\u001b[39;49m\u001b[38;5;241;43m.\u001b[39;49m\u001b[43mdownload\u001b[49m\u001b[43m(\u001b[49m\n\u001b[1;32m     53\u001b[0m \u001b[43m        \u001b[49m\u001b[43mperiod\u001b[49m\u001b[43m,\u001b[49m\u001b[43m \u001b[49m\u001b[43minterval\u001b[49m\u001b[43m,\u001b[49m\n\u001b[1;32m     54\u001b[0m \u001b[43m        \u001b[49m\u001b[43mstart\u001b[49m\u001b[43m,\u001b[49m\u001b[43m \u001b[49m\u001b[43mend\u001b[49m\u001b[43m,\u001b[49m\u001b[43m \u001b[49m\u001b[43mprepost\u001b[49m\u001b[43m,\u001b[49m\n\u001b[1;32m     55\u001b[0m \u001b[43m        \u001b[49m\u001b[43mactions\u001b[49m\u001b[43m,\u001b[49m\u001b[43m \u001b[49m\u001b[43mauto_adjust\u001b[49m\u001b[43m,\u001b[49m\u001b[43m \u001b[49m\u001b[43mrepair\u001b[49m\u001b[43m,\u001b[49m\u001b[43m \u001b[49m\n\u001b[1;32m     56\u001b[0m \u001b[43m        \u001b[49m\u001b[43mproxy\u001b[49m\u001b[43m,\u001b[49m\n\u001b[1;32m     57\u001b[0m \u001b[43m        \u001b[49m\u001b[43mthreads\u001b[49m\u001b[43m,\u001b[49m\u001b[43m \u001b[49m\u001b[43mgroup_by\u001b[49m\u001b[43m,\u001b[49m\u001b[43m \u001b[49m\u001b[43mprogress\u001b[49m\u001b[43m,\u001b[49m\n\u001b[1;32m     58\u001b[0m \u001b[43m        \u001b[49m\u001b[43mtimeout\u001b[49m\u001b[43m,\u001b[49m\u001b[43m \u001b[49m\u001b[38;5;241;43m*\u001b[39;49m\u001b[38;5;241;43m*\u001b[39;49m\u001b[43mkwargs\u001b[49m\u001b[43m)\u001b[49m\n",
      "File \u001b[0;32m/opt/anaconda3/envs/SIGNS_2024/lib/python3.12/site-packages/yfinance/tickers.py:83\u001b[0m, in \u001b[0;36mTickers.download\u001b[0;34m(self, period, interval, start, end, prepost, actions, auto_adjust, repair, proxy, threads, group_by, progress, timeout, **kwargs)\u001b[0m\n\u001b[1;32m     67\u001b[0m data \u001b[38;5;241m=\u001b[39m multi\u001b[38;5;241m.\u001b[39mdownload(\u001b[38;5;28mself\u001b[39m\u001b[38;5;241m.\u001b[39msymbols,\n\u001b[1;32m     68\u001b[0m                       start\u001b[38;5;241m=\u001b[39mstart, end\u001b[38;5;241m=\u001b[39mend,\n\u001b[1;32m     69\u001b[0m                       actions\u001b[38;5;241m=\u001b[39mactions,\n\u001b[0;32m   (...)\u001b[0m\n\u001b[1;32m     79\u001b[0m                       timeout\u001b[38;5;241m=\u001b[39mtimeout,\n\u001b[1;32m     80\u001b[0m                       \u001b[38;5;241m*\u001b[39m\u001b[38;5;241m*\u001b[39mkwargs)\n\u001b[1;32m     82\u001b[0m \u001b[38;5;28;01mfor\u001b[39;00m symbol \u001b[38;5;129;01min\u001b[39;00m \u001b[38;5;28mself\u001b[39m\u001b[38;5;241m.\u001b[39msymbols:\n\u001b[0;32m---> 83\u001b[0m     \u001b[38;5;28mself\u001b[39m\u001b[38;5;241m.\u001b[39mtickers\u001b[38;5;241m.\u001b[39mget(symbol, {})\u001b[38;5;241m.\u001b[39m_history \u001b[38;5;241m=\u001b[39m \u001b[43mdata\u001b[49m\u001b[43m[\u001b[49m\u001b[43msymbol\u001b[49m\u001b[43m]\u001b[49m\n\u001b[1;32m     85\u001b[0m \u001b[38;5;28;01mif\u001b[39;00m group_by \u001b[38;5;241m==\u001b[39m \u001b[38;5;124m'\u001b[39m\u001b[38;5;124mcolumn\u001b[39m\u001b[38;5;124m'\u001b[39m:\n\u001b[1;32m     86\u001b[0m     data\u001b[38;5;241m.\u001b[39mcolumns \u001b[38;5;241m=\u001b[39m data\u001b[38;5;241m.\u001b[39mcolumns\u001b[38;5;241m.\u001b[39mswaplevel(\u001b[38;5;241m0\u001b[39m, \u001b[38;5;241m1\u001b[39m)\n",
      "File \u001b[0;32m/opt/anaconda3/envs/SIGNS_2024/lib/python3.12/site-packages/pandas/core/frame.py:4102\u001b[0m, in \u001b[0;36mDataFrame.__getitem__\u001b[0;34m(self, key)\u001b[0m\n\u001b[1;32m   4100\u001b[0m \u001b[38;5;28;01mif\u001b[39;00m \u001b[38;5;28mself\u001b[39m\u001b[38;5;241m.\u001b[39mcolumns\u001b[38;5;241m.\u001b[39mnlevels \u001b[38;5;241m>\u001b[39m \u001b[38;5;241m1\u001b[39m:\n\u001b[1;32m   4101\u001b[0m     \u001b[38;5;28;01mreturn\u001b[39;00m \u001b[38;5;28mself\u001b[39m\u001b[38;5;241m.\u001b[39m_getitem_multilevel(key)\n\u001b[0;32m-> 4102\u001b[0m indexer \u001b[38;5;241m=\u001b[39m \u001b[38;5;28;43mself\u001b[39;49m\u001b[38;5;241;43m.\u001b[39;49m\u001b[43mcolumns\u001b[49m\u001b[38;5;241;43m.\u001b[39;49m\u001b[43mget_loc\u001b[49m\u001b[43m(\u001b[49m\u001b[43mkey\u001b[49m\u001b[43m)\u001b[49m\n\u001b[1;32m   4103\u001b[0m \u001b[38;5;28;01mif\u001b[39;00m is_integer(indexer):\n\u001b[1;32m   4104\u001b[0m     indexer \u001b[38;5;241m=\u001b[39m [indexer]\n",
      "File \u001b[0;32m/opt/anaconda3/envs/SIGNS_2024/lib/python3.12/site-packages/pandas/core/indexes/base.py:3812\u001b[0m, in \u001b[0;36mIndex.get_loc\u001b[0;34m(self, key)\u001b[0m\n\u001b[1;32m   3807\u001b[0m     \u001b[38;5;28;01mif\u001b[39;00m \u001b[38;5;28misinstance\u001b[39m(casted_key, \u001b[38;5;28mslice\u001b[39m) \u001b[38;5;129;01mor\u001b[39;00m (\n\u001b[1;32m   3808\u001b[0m         \u001b[38;5;28misinstance\u001b[39m(casted_key, abc\u001b[38;5;241m.\u001b[39mIterable)\n\u001b[1;32m   3809\u001b[0m         \u001b[38;5;129;01mand\u001b[39;00m \u001b[38;5;28many\u001b[39m(\u001b[38;5;28misinstance\u001b[39m(x, \u001b[38;5;28mslice\u001b[39m) \u001b[38;5;28;01mfor\u001b[39;00m x \u001b[38;5;129;01min\u001b[39;00m casted_key)\n\u001b[1;32m   3810\u001b[0m     ):\n\u001b[1;32m   3811\u001b[0m         \u001b[38;5;28;01mraise\u001b[39;00m InvalidIndexError(key)\n\u001b[0;32m-> 3812\u001b[0m     \u001b[38;5;28;01mraise\u001b[39;00m \u001b[38;5;167;01mKeyError\u001b[39;00m(key) \u001b[38;5;28;01mfrom\u001b[39;00m \u001b[38;5;21;01merr\u001b[39;00m\n\u001b[1;32m   3813\u001b[0m \u001b[38;5;28;01mexcept\u001b[39;00m \u001b[38;5;167;01mTypeError\u001b[39;00m:\n\u001b[1;32m   3814\u001b[0m     \u001b[38;5;66;03m# If we have a listlike key, _check_indexing_error will raise\u001b[39;00m\n\u001b[1;32m   3815\u001b[0m     \u001b[38;5;66;03m#  InvalidIndexError. Otherwise we fall through and re-raise\u001b[39;00m\n\u001b[1;32m   3816\u001b[0m     \u001b[38;5;66;03m#  the TypeError.\u001b[39;00m\n\u001b[1;32m   3817\u001b[0m     \u001b[38;5;28mself\u001b[39m\u001b[38;5;241m.\u001b[39m_check_indexing_error(key)\n",
      "\u001b[0;31mKeyError\u001b[0m: 'MSFT'"
     ]
    }
   ],
   "source": [
    "hist = {}\n",
    "\n",
    "for s in stock_list:\n",
    "    tkr = yf.Tickers(s)\n",
    "    history = tkr.history(period = \"max\")\n",
    "    hist[s] = history\n",
    "    "
   ]
  },
  {
   "cell_type": "code",
   "execution_count": null,
   "id": "357a74a6-1851-4e1c-98ee-54c3b2825265",
   "metadata": {},
   "outputs": [],
   "source": []
  },
  {
   "cell_type": "code",
   "execution_count": null,
   "id": "94c08a56-2c16-4e33-85bf-7b221e198c63",
   "metadata": {},
   "outputs": [],
   "source": []
  },
  {
   "cell_type": "code",
   "execution_count": null,
   "id": "1004d541-1b8a-48d4-be51-678e2e5505fe",
   "metadata": {},
   "outputs": [],
   "source": []
  },
  {
   "cell_type": "code",
   "execution_count": null,
   "id": "0baa65de-0148-4cd9-8293-e6558a51f828",
   "metadata": {},
   "outputs": [],
   "source": []
  },
  {
   "cell_type": "code",
   "execution_count": null,
   "id": "050f06ab-e2c6-4c3d-8d13-645df2158576",
   "metadata": {},
   "outputs": [],
   "source": []
  }
 ],
 "metadata": {
  "kernelspec": {
   "display_name": "Python 3 (ipykernel)",
   "language": "python",
   "name": "python3"
  },
  "language_info": {
   "codemirror_mode": {
    "name": "ipython",
    "version": 3
   },
   "file_extension": ".py",
   "mimetype": "text/x-python",
   "name": "python",
   "nbconvert_exporter": "python",
   "pygments_lexer": "ipython3",
   "version": "3.12.7"
  }
 },
 "nbformat": 4,
 "nbformat_minor": 5
}
