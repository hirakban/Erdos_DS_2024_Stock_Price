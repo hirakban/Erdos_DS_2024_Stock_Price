{
 "cells": [
  {
   "cell_type": "markdown",
   "id": "7451788a",
   "metadata": {},
   "source": [
    "# Webscrapper to Obtain Financial Data from Yahoo Finance"
   ]
  },
  {
   "cell_type": "code",
   "execution_count": 1,
   "id": "47809ffa",
   "metadata": {},
   "outputs": [],
   "source": [
    "# !pip install yfinance"
   ]
  },
  {
   "cell_type": "markdown",
   "id": "c15e0086",
   "metadata": {},
   "source": [
    "## Import Modules"
   ]
  },
  {
   "cell_type": "code",
   "execution_count": 2,
   "id": "ecbae9e9-8159-42e6-9428-5736df134927",
   "metadata": {},
   "outputs": [],
   "source": [
    "import numpy as np\n",
    "import pandas as pd\n",
    "import matplotlib.pyplot as plt\n",
    "import yfinance as yf\n",
    "import os\n",
    "from datetime import datetime, timedelta\n",
    "import pytz"
   ]
  },
  {
   "cell_type": "markdown",
   "id": "28f4c110",
   "metadata": {},
   "source": [
    "## Example Stock data - Microsoft (MSFT)"
   ]
  },
  {
   "cell_type": "code",
   "execution_count": 3,
   "id": "0875c1b2-62ed-45b6-b98e-1607a91ab019",
   "metadata": {},
   "outputs": [
    {
     "name": "stdout",
     "output_type": "stream",
     "text": [
      "address1: One Microsoft Way\n",
      "city: Redmond\n",
      "state: WA\n",
      "zip: 98052-6399\n",
      "country: United States\n",
      "phone: 425 882 8080\n",
      "website: https://www.microsoft.com\n",
      "industry: Software - Infrastructure\n",
      "industryKey: software-infrastructure\n",
      "industryDisp: Software - Infrastructure\n",
      "sector: Technology\n",
      "sectorKey: technology\n",
      "sectorDisp: Technology\n",
      "longBusinessSummary: Microsoft Corporation develops and supports software, services, devices and solutions worldwide. The Productivity and Business Processes segment offers office, exchange, SharePoint, Microsoft Teams, office 365 Security and Compliance, Microsoft viva, and Microsoft 365 copilot; and office consumer services, such as Microsoft 365 consumer subscriptions, Office licensed on-premises, and other office services. This segment also provides LinkedIn; and dynamics business solutions, including Dynamics 365, a set of intelligent, cloud-based applications across ERP, CRM, power apps, and power automate; and on-premises ERP and CRM applications. The Intelligent Cloud segment offers server products and cloud services, such as azure and other cloud services; SQL and windows server, visual studio, system center, and related client access licenses, as well as nuance and GitHub; and enterprise services including enterprise support services, industry solutions, and nuance professional services. The More Personal Computing segment offers Windows, including windows OEM licensing and other non-volume licensing of the Windows operating system; Windows commercial comprising volume licensing of the Windows operating system, windows cloud services, and other Windows commercial offerings; patent licensing; and windows Internet of Things; and devices, such as surface, HoloLens, and PC accessories. Additionally, this segment provides gaming, which includes Xbox hardware and content, and first- and third-party content; Xbox game pass and other subscriptions, cloud gaming, advertising, third-party disc royalties, and other cloud services; and search and news advertising, which includes Bing, Microsoft News and Edge, and third-party affiliates. The company sells its products through OEMs, distributors, and resellers; and directly through digital marketplaces, online, and retail stores. The company was founded in 1975 and is headquartered in Redmond, Washington.\n",
      "fullTimeEmployees: 228000\n",
      "companyOfficers: [{'maxAge': 1, 'name': 'Mr. Satya  Nadella', 'age': 56, 'title': 'Chairman & CEO', 'yearBorn': 1967, 'fiscalYear': 2024, 'totalPay': 7869791, 'exercisedValue': 0, 'unexercisedValue': 0}, {'maxAge': 1, 'name': 'Mr. Bradford L. Smith LCA', 'age': 64, 'title': 'President & Vice Chairman', 'yearBorn': 1959, 'fiscalYear': 2024, 'totalPay': 4755618, 'exercisedValue': 0, 'unexercisedValue': 0}, {'maxAge': 1, 'name': 'Ms. Amy E. Hood', 'age': 51, 'title': 'Executive VP & CFO', 'yearBorn': 1972, 'fiscalYear': 2024, 'totalPay': 4704250, 'exercisedValue': 0, 'unexercisedValue': 0}, {'maxAge': 1, 'name': 'Mr. Judson B. Althoff', 'age': 50, 'title': 'Executive VP & Chief Commercial Officer', 'yearBorn': 1973, 'fiscalYear': 2024, 'totalPay': 4534974, 'exercisedValue': 0, 'unexercisedValue': 0}, {'maxAge': 1, 'name': 'Mr. Christopher David Young', 'age': 51, 'title': 'Executive Vice President of Business Development, Strategy & Ventures', 'yearBorn': 1972, 'fiscalYear': 2024, 'totalPay': 2993772, 'exercisedValue': 0, 'unexercisedValue': 0}, {'maxAge': 1, 'name': 'Ms. Carolina  Dybeck Happe', 'age': 51, 'title': 'Executive VP & COO', 'yearBorn': 1972, 'fiscalYear': 2024, 'exercisedValue': 0, 'unexercisedValue': 0}, {'maxAge': 1, 'name': 'Ms. Alice L. Jolla', 'age': 57, 'title': 'Corporate VP & Chief Accounting Officer', 'yearBorn': 1966, 'fiscalYear': 2024, 'exercisedValue': 0, 'unexercisedValue': 0}, {'maxAge': 1, 'name': 'Mr. James Kevin Scott', 'age': 51, 'title': 'Executive VP of AI & CTO', 'yearBorn': 1972, 'fiscalYear': 2024, 'exercisedValue': 0, 'unexercisedValue': 0}, {'maxAge': 1, 'name': 'Mr. Brett  Iversen', 'title': 'Vice President of Investor Relations', 'fiscalYear': 2024, 'exercisedValue': 0, 'unexercisedValue': 0}, {'maxAge': 1, 'name': 'Mr. Hossein  Nowbar', 'title': 'Chief Legal Officer', 'fiscalYear': 2024, 'exercisedValue': 0, 'unexercisedValue': 0}]\n",
      "auditRisk: 3\n",
      "boardRisk: 4\n",
      "compensationRisk: 2\n",
      "shareHolderRightsRisk: 2\n",
      "overallRisk: 1\n",
      "governanceEpochDate: 1730419200\n",
      "compensationAsOfEpochDate: 1735603200\n",
      "irWebsite: http://www.microsoft.com/investor/default.aspx\n",
      "maxAge: 86400\n",
      "priceHint: 2\n",
      "previousClose: 425.43\n",
      "open: 425.396\n",
      "dayLow: 421.78\n",
      "dayHigh: 426.5\n",
      "regularMarketPreviousClose: 425.43\n",
      "regularMarketOpen: 425.396\n",
      "regularMarketDayLow: 421.78\n",
      "regularMarketDayHigh: 426.5\n",
      "dividendRate: 3.32\n",
      "dividendYield: 0.007900001\n",
      "exDividendDate: 1732147200\n",
      "payoutRatio: 0.2477\n",
      "fiveYearAvgDividendYield: 0.88\n",
      "beta: 0.904\n",
      "trailingPE: 34.834297\n",
      "forwardPE: 28.263546\n",
      "volume: 16809546\n",
      "regularMarketVolume: 16809546\n",
      "averageVolume: 18891451\n",
      "averageVolume10days: 24123440\n",
      "averageDailyVolume10Day: 24123440\n",
      "bid: 403.94\n",
      "ask: 422.95\n",
      "bidSize: 100\n",
      "askSize: 200\n",
      "marketCap: 3141534220288\n",
      "fiftyTwoWeekLow: 362.9\n",
      "fiftyTwoWeekHigh: 468.35\n",
      "priceToSalesTrailing12Months: 12.359\n",
      "fiftyDayAverage: 421.092\n",
      "twoHundredDayAverage: 421.2611\n",
      "trailingAnnualDividendRate: 3.08\n",
      "trailingAnnualDividendYield: 0.007239734\n",
      "currency: USD\n",
      "enterpriseValue: 3159943544832\n",
      "profitMargins: 0.35608003\n",
      "floatShares: 7424694989\n",
      "sharesOutstanding: 7434880000\n",
      "sharesShort: 60313798\n",
      "sharesShortPriorMonth: 67500308\n",
      "sharesShortPreviousMonthDate: 1726185600\n",
      "dateShortInterest: 1728950400\n",
      "sharesPercentSharesOut: 0.0081\n",
      "heldPercentInsiders: 0.00055\n",
      "heldPercentInstitutions: 0.73837\n",
      "shortRatio: 3.26\n",
      "shortPercentOfFloat: 0.0081\n",
      "impliedSharesOutstanding: 7434880000\n",
      "bookValue: 38.693\n",
      "priceToBook: 10.920321\n",
      "lastFiscalYearEnd: 1719705600\n",
      "nextFiscalYearEnd: 1751241600\n",
      "mostRecentQuarter: 1727654400\n",
      "earningsQuarterlyGrowth: 0.107\n",
      "netIncomeToCommon: 90511998976\n",
      "trailingEps: 12.13\n",
      "forwardEps: 14.95\n",
      "pegRatio: 2.34\n",
      "lastSplitFactor: 2:1\n",
      "lastSplitDate: 1045526400\n",
      "enterpriseToRevenue: 12.431\n",
      "enterpriseToEbitda: 23.141\n",
      "52WeekChange: 0.15233994\n",
      "SandP52WeekChange: 0.35905516\n",
      "lastDividendValue: 0.75\n",
      "lastDividendDate: 1723680000\n",
      "exchange: NMS\n",
      "quoteType: EQUITY\n",
      "symbol: MSFT\n",
      "underlyingSymbol: MSFT\n",
      "shortName: Microsoft Corporation\n",
      "longName: Microsoft Corporation\n",
      "firstTradeDateEpochUtc: 511108200\n",
      "timeZoneFullName: America/New_York\n",
      "timeZoneShortName: EST\n",
      "uuid: b004b3ec-de24-385e-b2c1-923f10d3fb62\n",
      "messageBoardId: finmb_21835\n",
      "gmtOffSetMilliseconds: -18000000\n",
      "currentPrice: 422.54\n",
      "targetHighPrice: 600.0\n",
      "targetLowPrice: 425.0\n",
      "targetMeanPrice: 497.6\n",
      "targetMedianPrice: 497.7\n",
      "recommendationMean: 1.7\n",
      "recommendationKey: buy\n",
      "numberOfAnalystOpinions: 48\n",
      "totalCash: 78429003776\n",
      "totalCashPerShare: 10.549\n",
      "ebitda: 136551997440\n",
      "totalDebt: 96838000640\n",
      "quickRatio: 1.163\n",
      "currentRatio: 1.301\n",
      "totalRevenue: 254189993984\n",
      "debtToEquity: 33.657\n",
      "revenuePerShare: 34.202\n",
      "returnOnAssets: 0.14592\n",
      "returnOnEquity: 0.35604\n",
      "freeCashflow: 61280874496\n",
      "operatingCashflow: 122144997376\n",
      "earningsGrowth: 0.104\n",
      "revenueGrowth: 0.16\n",
      "grossMargins: 0.69348997\n",
      "ebitdaMargins: 0.53720003\n",
      "operatingMargins: 0.46583998\n",
      "financialCurrency: USD\n",
      "trailingPegRatio: 2.234\n"
     ]
    }
   ],
   "source": [
    "msft = yf.Ticker(\"MSFT\")\n",
    "\n",
    "# get all stock info\n",
    "info = msft.info\n",
    "\n",
    "# get historical market data\n",
    "hist = msft.history(period=\"10y\")\n",
    "\n",
    "\n",
    "# # show financials:\n",
    "# msft.calendar\n",
    "# msft.sec_filings\n",
    "# # - income statement\n",
    "# msft.income_stmt\n",
    "# msft.quarterly_income_stmt\n",
    "# # - balance sheet\n",
    "# msft.balance_sheet\n",
    "# msft.quarterly_balance_sheet\n",
    "# # - cash flow statement\n",
    "# msft.cashflow\n",
    "# msft.quarterly_cashflow\n",
    "# # see `Ticker.get_income_stmt()` for more options\n",
    "\n",
    "\n",
    "# View all available metrics for this stock\n",
    "for key, value in msft.info.items():\n",
    "    print(f\"{key}: {value}\")"
   ]
  },
  {
   "cell_type": "code",
   "execution_count": 4,
   "id": "f24ff731-2573-4f36-8419-fd39b7e59e60",
   "metadata": {},
   "outputs": [
    {
     "data": {
      "text/plain": [
       "Index(['Open', 'High', 'Low', 'Close', 'Volume', 'Dividends', 'Stock Splits'], dtype='object')"
      ]
     },
     "execution_count": 4,
     "metadata": {},
     "output_type": "execute_result"
    }
   ],
   "source": [
    "# History data keys \n",
    "hist.keys()"
   ]
  },
  {
   "cell_type": "code",
   "execution_count": 5,
   "id": "199521fe-69f9-496f-b07f-9eafbd3fc157",
   "metadata": {},
   "outputs": [
    {
     "data": {
      "text/plain": [
       "<Axes: xlabel='Date'>"
      ]
     },
     "execution_count": 5,
     "metadata": {},
     "output_type": "execute_result"
    },
    {
     "data": {
      "image/png": "[encoded data removed]",
      "text/plain": [
       "<Figure size 640x480 with 1 Axes>"
      ]
     },
     "metadata": {},
     "output_type": "display_data"
    }
   ],
   "source": [
    "hist['Open'].plot()\n",
    "hist['Close'].plot()\n",
    "# hist['Dividends'].plot()\n",
    "# hist['Stock Splits'].plot()"
   ]
  },
  {
   "cell_type": "markdown",
   "id": "f825bbc9-0f41-4160-a1b6-9ebace75b439",
   "metadata": {},
   "source": [
    "## Get Historical Stock Data"
   ]
  },
  {
   "cell_type": "code",
   "execution_count": 6,
   "id": "56a49182-1410-4ffb-b65e-4847b93c84bb",
   "metadata": {},
   "outputs": [],
   "source": [
    "class StockDataScraper:\n",
    "    def __init__(self, stock, path_to_data=\"stock_data\"):\n",
    "        # Strip any leading/trailing spaces from the stock symbol\n",
    "        self.stock = stock.strip()\n",
    "        self.path_to_data = path_to_data\n",
    "        self.ticker = yf.Ticker(self.stock)\n",
    "        \n",
    "        # Create the stock-specific directory inside the base directory\n",
    "        self.stock_folder = os.path.join(self.path_to_data, self.stock)\n",
    "        if not os.path.exists(self.stock_folder):\n",
    "            os.makedirs(self.stock_folder)\n",
    "    \n",
    "    def get_stock_info(self):\n",
    "        \"\"\"Fetches the company information and saves it to stock_info.csv.\"\"\"\n",
    "        try:\n",
    "            stock_info = pd.DataFrame.from_dict(self.ticker.info, orient='index').T\n",
    "            stock_info_file = os.path.join(self.stock_folder, 'stock_info.csv')\n",
    "            stock_info.to_csv(stock_info_file, index=False)\n",
    "            print(f\"Stock info saved to {stock_info_file}\")\n",
    "        except Exception as e:\n",
    "            print(f\"Error retrieving stock info for {self.stock}: {e}\")\n",
    "    \n",
    "    def get_historical_data(self):\n",
    "        \"\"\"Fetches the historical stock data for the past 20 years (daily interval) and saves it to stock_price.csv.\"\"\"\n",
    "        try:\n",
    "            end_date = pd.Timestamp(\"2024-09-30\")\n",
    "            # start_date = (datetime.today() - timedelta(days=20*365)).strftime('%Y-%m-%d')\n",
    "            start_date = pd.Timestamp(\"2011-01-01\")\n",
    "            hist_data = self.ticker.history(start=start_date, end=end_date, interval='1d')\n",
    "            stock_price_file = os.path.join(self.stock_folder, 'stock_price.csv')\n",
    "            hist_data.to_csv(stock_price_file)\n",
    "            print(f\"Historical data saved to {stock_price_file}\")\n",
    "        except Exception as e:\n",
    "            print(f\"Error retrieving historical data for {self.stock}: {e}\")\n",
    "    \n",
    "    def get_quarterly_data(self, years=20):\n",
    "        \"\"\"\n",
    "        Fetches quarterly income statement, balance sheet, and cash flow for the past 'years' years (10 or 20), \n",
    "        and saves them to stock_quarter.csv.\n",
    "        \"\"\"\n",
    "        try:\n",
    "            # Fetching the quarterly financials\n",
    "            income_stmt = self.ticker.quarterly_income_stmt.T\n",
    "            balance_sheet = self.ticker.quarterly_balance_sheet.T\n",
    "            cashflow = self.ticker.quarterly_cashflow.T\n",
    "\n",
    "            # Convert the column headers (dates) to pandas Timestamps for comparison\n",
    "            income_stmt.columns = pd.to_datetime(income_stmt.columns)\n",
    "            balance_sheet.columns = pd.to_datetime(balance_sheet.columns)\n",
    "            cashflow.columns = pd.to_datetime(cashflow.columns)\n",
    "\n",
    "            # Filter to the past `years` if necessary\n",
    "            if years:\n",
    "                end_date = pd.Timestamp(\"2024-09-30\")\n",
    "                start_date = pd.Timestamp(\"2011-01-01\")  # Calculate start date based on requested years\n",
    "                \n",
    "                # Filter the DataFrames by the date range\n",
    "                income_stmt = income_stmt.loc[:, income_stmt.columns >= pd.Timestamp(start_date)]\n",
    "                balance_sheet = balance_sheet.loc[:, balance_sheet.columns >= pd.Timestamp(start_date)]\n",
    "                cashflow = cashflow.loc[:, cashflow.columns >= pd.Timestamp(start_date)]\n",
    "\n",
    "            # Store all data into a dictionary to export as a CSV\n",
    "            combined_quarterly_data = {\n",
    "                'Quarterly Income Statement': income_stmt,\n",
    "                'Quarterly Balance Sheet': balance_sheet,\n",
    "                'Quarterly Cash Flow': cashflow\n",
    "            }\n",
    "\n",
    "            # File path for the CSV\n",
    "            stock_quarter_file = os.path.join(self.stock_folder, 'stock_quarter.csv')\n",
    "\n",
    "            # Writing to CSV\n",
    "            with open(stock_quarter_file, 'w') as f:\n",
    "                for key, df in combined_quarterly_data.items():\n",
    "                    f.write(f\"\\n\\n{key}\\n\")  # Section title\n",
    "                    if not df.empty:\n",
    "                        df.to_csv(f, index=True)  # Export each DataFrame to the CSV\n",
    "\n",
    "            print(f\"Quarterly financials for {self.stock} saved to {stock_quarter_file}\")\n",
    "\n",
    "        except Exception as e:\n",
    "            print(f\"Error retrieving quarterly financials for {self.stock}: {e}\")\n",
    "\n",
    "\n",
    "    def get_stock_news(self):\n",
    "        \"\"\"Fetches financial news for the last 20 years and saves to stock_news.csv.\"\"\"\n",
    "        try:\n",
    "            news = self.ticker.news\n",
    "            news_df = pd.DataFrame(news)\n",
    "            \n",
    "            if not news_df.empty:\n",
    "                news_df = news_df[['title', 'publisher', 'link', 'providerPublishTime']]\n",
    "                news_df['providerPublishTime'] = pd.to_datetime(news_df['providerPublishTime'], unit='s')\n",
    "                start_date = pd.Timestamp(\"2011-01-01\")\n",
    "                news_df = news_df[news_df['providerPublishTime'] >= pd.Timestamp(start_date)]\n",
    "            \n",
    "            stock_news_file = os.path.join(self.stock_folder, 'stock_news.csv')\n",
    "            news_df.to_csv(stock_news_file, index=False)\n",
    "            print(f\"News data saved to {stock_news_file}\")\n",
    "        except Exception as e:\n",
    "            print(f\"Error retrieving news for {self.stock}: {e}\")\n",
    "    \n",
    "    \n",
    "    def scrape_all_data(self):\n",
    "        \"\"\"Scrapes all the required data and saves them to CSV files.\"\"\"\n",
    "        print(f\"Stock : {stock}\")\n",
    "        self.get_stock_info()\n",
    "        self.get_historical_data()\n",
    "        self.get_quarterly_data()\n",
    "        self.get_stock_news()\n",
    "        print()\n"
   ]
  },
  {
   "cell_type": "code",
   "execution_count": 7,
   "id": "357a74a6-1851-4e1c-98ee-54c3b2825265",
   "metadata": {},
   "outputs": [
    {
     "name": "stdout",
     "output_type": "stream",
     "text": [
      "6\n",
      "Stock : MSFT\n",
      "Stock info saved to stock_data\\MSFT\\stock_info.csv\n",
      "Historical data saved to stock_data\\MSFT\\stock_price.csv\n"
     ]
    },
    {
     "name": "stderr",
     "output_type": "stream",
     "text": [
      "C:\\Users\\mozum\\AppData\\Local\\Temp\\ipykernel_36080\\251761326.py:48: UserWarning: Could not infer format, so each element will be parsed individually, falling back to `dateutil`. To ensure parsing is consistent and as-expected, please specify a format.\n",
      "  income_stmt.columns = pd.to_datetime(income_stmt.columns)\n"
     ]
    },
    {
     "name": "stdout",
     "output_type": "stream",
     "text": [
      "Error retrieving quarterly financials for MSFT: Unknown datetime string format, unable to parse: Tax Effect Of Unusual Items, at position 0\n",
      "News data saved to stock_data\\MSFT\\stock_news.csv\n",
      "\n",
      "Stock : AAPL\n",
      "Stock info saved to stock_data\\AAPL\\stock_info.csv\n",
      "Historical data saved to stock_data\\AAPL\\stock_price.csv\n"
     ]
    },
    {
     "name": "stderr",
     "output_type": "stream",
     "text": [
      "C:\\Users\\mozum\\AppData\\Local\\Temp\\ipykernel_36080\\251761326.py:48: UserWarning: Could not infer format, so each element will be parsed individually, falling back to `dateutil`. To ensure parsing is consistent and as-expected, please specify a format.\n",
      "  income_stmt.columns = pd.to_datetime(income_stmt.columns)\n"
     ]
    },
    {
     "name": "stdout",
     "output_type": "stream",
     "text": [
      "Error retrieving quarterly financials for AAPL: Unknown datetime string format, unable to parse: Tax Effect Of Unusual Items, at position 0\n",
      "News data saved to stock_data\\AAPL\\stock_news.csv\n",
      "\n",
      "Stock : NVDA\n",
      "Stock info saved to stock_data\\NVDA\\stock_info.csv\n",
      "Historical data saved to stock_data\\NVDA\\stock_price.csv\n"
     ]
    },
    {
     "name": "stderr",
     "output_type": "stream",
     "text": [
      "C:\\Users\\mozum\\AppData\\Local\\Temp\\ipykernel_36080\\251761326.py:48: UserWarning: Could not infer format, so each element will be parsed individually, falling back to `dateutil`. To ensure parsing is consistent and as-expected, please specify a format.\n",
      "  income_stmt.columns = pd.to_datetime(income_stmt.columns)\n"
     ]
    },
    {
     "name": "stdout",
     "output_type": "stream",
     "text": [
      "Error retrieving quarterly financials for NVDA: Unknown datetime string format, unable to parse: Tax Effect Of Unusual Items, at position 0\n",
      "News data saved to stock_data\\NVDA\\stock_news.csv\n",
      "\n",
      "Stock : AMZN\n",
      "Stock info saved to stock_data\\AMZN\\stock_info.csv\n",
      "Historical data saved to stock_data\\AMZN\\stock_price.csv\n"
     ]
    },
    {
     "name": "stderr",
     "output_type": "stream",
     "text": [
      "C:\\Users\\mozum\\AppData\\Local\\Temp\\ipykernel_36080\\251761326.py:48: UserWarning: Could not infer format, so each element will be parsed individually, falling back to `dateutil`. To ensure parsing is consistent and as-expected, please specify a format.\n",
      "  income_stmt.columns = pd.to_datetime(income_stmt.columns)\n"
     ]
    },
    {
     "name": "stdout",
     "output_type": "stream",
     "text": [
      "Error retrieving quarterly financials for AMZN: Unknown datetime string format, unable to parse: Tax Effect Of Unusual Items, at position 0\n",
      "News data saved to stock_data\\AMZN\\stock_news.csv\n",
      "\n",
      "Stock : GOOG\n",
      "Stock info saved to stock_data\\GOOG\\stock_info.csv\n",
      "Historical data saved to stock_data\\GOOG\\stock_price.csv\n"
     ]
    },
    {
     "name": "stderr",
     "output_type": "stream",
     "text": [
      "C:\\Users\\mozum\\AppData\\Local\\Temp\\ipykernel_36080\\251761326.py:48: UserWarning: Could not infer format, so each element will be parsed individually, falling back to `dateutil`. To ensure parsing is consistent and as-expected, please specify a format.\n",
      "  income_stmt.columns = pd.to_datetime(income_stmt.columns)\n"
     ]
    },
    {
     "name": "stdout",
     "output_type": "stream",
     "text": [
      "Error retrieving quarterly financials for GOOG: Unknown datetime string format, unable to parse: Tax Effect Of Unusual Items, at position 0\n",
      "News data saved to stock_data\\GOOG\\stock_news.csv\n",
      "\n",
      "Stock : GOOGL\n",
      "Stock info saved to stock_data\\GOOGL\\stock_info.csv\n",
      "Historical data saved to stock_data\\GOOGL\\stock_price.csv\n",
      "Error retrieving quarterly financials for GOOGL: Unknown datetime string format, unable to parse: Tax Effect Of Unusual Items, at position 0\n",
      "News data saved to stock_data\\GOOGL\\stock_news.csv\n",
      "\n"
     ]
    },
    {
     "name": "stderr",
     "output_type": "stream",
     "text": [
      "C:\\Users\\mozum\\AppData\\Local\\Temp\\ipykernel_36080\\251761326.py:48: UserWarning: Could not infer format, so each element will be parsed individually, falling back to `dateutil`. To ensure parsing is consistent and as-expected, please specify a format.\n",
      "  income_stmt.columns = pd.to_datetime(income_stmt.columns)\n"
     ]
    }
   ],
   "source": [
    "# Define the base directory where the stock data will be stored\n",
    "path_to_data = \"stock_data\"\n",
    "\n",
    "# List of stocks to scrape\n",
    "# stocks = ['AAPL', 'NVDA', 'MSFT', 'AMZN', 'META', 'GOOGL', 'TSM', 'AVGO', 'LLY', \n",
    "            #   'JPM', 'TSLA', 'XOM', 'UNH', 'V', 'MA', 'HD', 'PG', 'JNJ', 'COST', 'WMT', \n",
    "            #   'ABBV', 'NFLX', 'BAC', 'KO', 'CVX', 'AMD', 'PEP', 'ACN', 'CSCO', 'TMO', \n",
    "            #   'MCD', 'ADBE', 'WFC', 'IBM', 'GE', 'ABT', 'QCOM', 'VZ', 'DIS', 'NEE', \n",
    "            #   'DHR', 'UBER', 'INTU', 'SPGI', 'ISRG', 'PFE', 'RTX', 'GS', 'CMSA', 'LOW', 'BRK-B']\n",
    "stocks = ['MSFT','AAPL','NVDA','AMZN','GOOG', 'GOOGL']\n",
    "\n",
    "len_stocks = len(stocks)\n",
    "print(len_stocks)\n",
    "\n",
    "# Loop through the list of stocks and scrape data using the StockDataScraper class\n",
    "for stock in stocks:\n",
    "    scraper = StockDataScraper(stock)\n",
    "    scraper.scrape_all_data()"
   ]
  },
  {
   "cell_type": "code",
   "execution_count": null,
   "id": "94c08a56-2c16-4e33-85bf-7b221e198c63",
   "metadata": {},
   "outputs": [],
   "source": []
  },
  {
   "cell_type": "code",
   "execution_count": null,
   "id": "1004d541-1b8a-48d4-be51-678e2e5505fe",
   "metadata": {},
   "outputs": [],
   "source": []
  },
  {
   "cell_type": "code",
   "execution_count": null,
   "id": "0baa65de-0148-4cd9-8293-e6558a51f828",
   "metadata": {},
   "outputs": [],
   "source": []
  },
  {
   "cell_type": "code",
   "execution_count": null,
   "id": "050f06ab-e2c6-4c3d-8d13-645df2158576",
   "metadata": {},
   "outputs": [],
   "source": []
  }
 ],
 "metadata": {
  "kernelspec": {
   "display_name": "SIGNS_2024",
   "language": "python",
   "name": "python3"
  },
  "language_info": {
   "codemirror_mode": {
    "name": "ipython",
    "version": 3
   },
   "file_extension": ".py",
   "mimetype": "text/x-python",
   "name": "python",
   "nbconvert_exporter": "python",
   "pygments_lexer": "ipython3",
   "version": "3.12.7"
  }
 },
 "nbformat": 4,
 "nbformat_minor": 5
}
