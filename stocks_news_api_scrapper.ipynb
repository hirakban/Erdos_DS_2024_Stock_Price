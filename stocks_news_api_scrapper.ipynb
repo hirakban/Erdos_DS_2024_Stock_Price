{
 "cells": [
  {
   "cell_type": "markdown",
   "metadata": {},
   "source": [
    "**News Focus:** `Geopoliticial conflicts`\n"
   ]
  },
  {
   "cell_type": "code",
   "execution_count": 16,
   "metadata": {},
   "outputs": [],
   "source": [
    "secondary_buzzwords = [\"israel\", \"gaza\", \"palestine\", \"conflict\", \"war\", \"hamas\", \n",
    "                       \"ukraine\", \"russia\",\"airstrike\",\"attack\", \"crisis\",\"oil\",\"prices\",\"nato\",\"invasion\"\n",
    "                       \"iran\",\"afghanistan\",\"china\",\"taiwan\",\"military\",\"indo-pacific\",\"south china sea\",\n",
    "                       \"market\",\"nuclear\",\"escalate\",\"zelensky\",\"putin\"]  # List of buzzwords to search for\n",
    "required_percentage = 6\n",
    "retry_after = 60\n",
    "start_date = '2024-09-23'\n",
    "end_date = '2024-10-22'"
   ]
  },
  {
   "cell_type": "markdown",
   "metadata": {},
   "source": [
    "**Industry Focus:** `Energy`\n",
    "\n",
    "**Timeline:** `One month`\n",
    "\n",
    "In the US the two biggest stocks in these industries are `ExxonMobil` (XOM) and `Chevron` (CVX)\n",
    "\n",
    "*Stock Focus*: `XOM`, `CVX`, `WFRD`, `VNOM`. \n"
   ]
  },
  {
   "cell_type": "code",
   "execution_count": 49,
   "metadata": {},
   "outputs": [],
   "source": [
    "import requests\n",
    "import pandas as pd"
   ]
  },
  {
   "cell_type": "code",
   "execution_count": 61,
   "metadata": {},
   "outputs": [],
   "source": [
    "import requests\n",
    "import pandas as pd\n",
    "\n",
    "class StockNewsAPIScraper:\n",
    "    def __init__(self, api_key, primary_buzzwords, secondary_buzzwords, required_percentage):\n",
    "        self.api_key = api_key\n",
    "        self.primary_buzzwords = primary_buzzwords\n",
    "        self.secondary_buzzwords = secondary_buzzwords\n",
    "        self.required_percentage = required_percentage / 100\n",
    "        self.base_url = 'https://stocknewsapi.com/api/v1'\n",
    "\n",
    "    def contains_any_primary_buzzwords(self, text):\n",
    "        text = text.lower()\n",
    "        return any(buzzword.lower() in text for buzzword in self.primary_buzzwords)\n",
    "\n",
    "    def contains_required_percentage_of_secondary_buzzwords(self, text):\n",
    "        text = text.lower()\n",
    "        buzzwords_found = sum(1 for buzzword in self.secondary_buzzwords if buzzword.lower() in text)\n",
    "        required_count = len(self.secondary_buzzwords) * self.required_percentage\n",
    "        return buzzwords_found >= required_count\n",
    "\n",
    "    def fetch_news(self, tickers, items=50):\n",
    "        tickers_str = ','.join(tickers)\n",
    "        url = f\"{self.base_url}?tickers={tickers_str}&items={items}&token={self.api_key}\"\n",
    "        response = requests.get(url)\n",
    "        if response.status_code == 200:\n",
    "            return response.json()\n",
    "        else:\n",
    "            print(f\"Failed to fetch news articles. Status code: {response.status_code}\")\n",
    "            return None\n",
    "\n",
    "    def filter_articles(self, news_data):\n",
    "        filtered_articles = []\n",
    "        if news_data and 'data' in news_data:\n",
    "            for article in news_data['data']:\n",
    "                content = article['title'] + \" \" + article.get('text', \"\")\n",
    "                if self.contains_any_primary_buzzwords(content) and self.contains_required_percentage_of_secondary_buzzwords(content):\n",
    "                    filtered_articles.append(article)\n",
    "        return filtered_articles\n",
    "\n",
    "    def display_articles(self, news_data):\n",
    "        filtered_articles = self.filter_articles(news_data)\n",
    "        if filtered_articles:\n",
    "            data = [{\n",
    "                'title': article['title'],\n",
    "                'date': article['date'],\n",
    "                'source': article['source_name'],\n",
    "                'url': article['news_url'],\n",
    "                'tickers': ', '.join(article.get('tickers', [])),\n",
    "                'sentiment': article.get('sentiment', 'Neutral')\n",
    "            } for article in filtered_articles]\n",
    "            df = pd.DataFrame(data)\n",
    "            return df\n",
    "        else:\n",
    "            print(\"No articles found.\")\n",
    "            return None"
   ]
  },
  {
   "cell_type": "code",
   "execution_count": 71,
   "metadata": {},
   "outputs": [
    {
     "data": {
      "text/html": [
       "<div>\n",
       "<style scoped>\n",
       "    .dataframe tbody tr th:only-of-type {\n",
       "        vertical-align: middle;\n",
       "    }\n",
       "\n",
       "    .dataframe tbody tr th {\n",
       "        vertical-align: top;\n",
       "    }\n",
       "\n",
       "    .dataframe thead th {\n",
       "        text-align: right;\n",
       "    }\n",
       "</style>\n",
       "<table border=\"1\" class=\"dataframe\">\n",
       "  <thead>\n",
       "    <tr style=\"text-align: right;\">\n",
       "      <th></th>\n",
       "      <th>title</th>\n",
       "      <th>date</th>\n",
       "      <th>source</th>\n",
       "      <th>url</th>\n",
       "      <th>tickers</th>\n",
       "      <th>sentiment</th>\n",
       "    </tr>\n",
       "  </thead>\n",
       "  <tbody>\n",
       "    <tr>\n",
       "      <th>0</th>\n",
       "      <td>Oil Prices Fall, Sector Pulls Back: Time to Bu...</td>\n",
       "      <td>Fri, 18 Oct 2024 08:30:09 -0400</td>\n",
       "      <td>MarketBeat</td>\n",
       "      <td>https://www.marketbeat.com/stock-ideas/oil-pri...</td>\n",
       "      <td>XOM</td>\n",
       "      <td>Negative</td>\n",
       "    </tr>\n",
       "  </tbody>\n",
       "</table>\n",
       "</div>"
      ],
      "text/plain": [
       "                                               title  \\\n",
       "0  Oil Prices Fall, Sector Pulls Back: Time to Bu...   \n",
       "\n",
       "                              date      source  \\\n",
       "0  Fri, 18 Oct 2024 08:30:09 -0400  MarketBeat   \n",
       "\n",
       "                                                 url tickers sentiment  \n",
       "0  https://www.marketbeat.com/stock-ideas/oil-pri...     XOM  Negative  "
      ]
     },
     "metadata": {},
     "output_type": "display_data"
    }
   ],
   "source": [
    "primary_buzzwords = [\"israel\", \"gaza\", \"palestine\", \"conflict\", \"war\", \"hamas\", \n",
    "                       \"ukraine\", \"russia\",\"china\",\"taiwan\",\"military\",\"indo-pacific\",\"south china sea\"]  # List of buzzwords to search for\n",
    "required_percentage = 5\n",
    "\n",
    "secondary_buzzwords = [\"airstrike\",\"attack\", \"crisis\",\"nato\",\"invasion\"\n",
    "                       \"iran\",\"nuclear\",\"escalate\",\"zelensky\",\"putin\"]\n",
    "api_key = 'fb1djkh9jqeydywd5bzgxws5gt1tc20nbx9hbnn1' \n",
    "\n",
    "tickers = ['XOM', 'CVX', 'WFRD', 'VNOM']  \n",
    "\n",
    "scraper = StockNewsAPIScraper(api_key, primary_buzzwords, secondary_buzzwords, required_percentage)\n",
    "news_data = scraper.fetch_news(tickers)\n",
    "if news_data:\n",
    "    news_df = scraper.display_articles(news_data)\n",
    "    if news_df is not None:\n",
    "        display(news_df)"
   ]
  },
  {
   "cell_type": "code",
   "execution_count": 73,
   "metadata": {},
   "outputs": [
    {
     "name": "stdout",
     "output_type": "stream",
     "text": [
      "Failed to fetch news articles. Status code: 422\n"
     ]
    }
   ],
   "source": [
    "import requests\n",
    "import pandas as pd\n",
    "\n",
    "class StockNewsAPIScraper:\n",
    "    def __init__(self, api_key, primary_buzzwords, secondary_buzzwords, required_percentage, date_range=None):\n",
    "        self.api_key = api_key\n",
    "        self.primary_buzzwords = primary_buzzwords\n",
    "        self.secondary_buzzwords = secondary_buzzwords\n",
    "        self.required_percentage = required_percentage / 100\n",
    "        self.date_range = date_range  # Add date range parameter\n",
    "        self.base_url = 'https://stocknewsapi.com/api/v1/category'\n",
    "\n",
    "    def contains_any_primary_buzzwords(self, text):\n",
    "        text = text.lower()\n",
    "        return any(buzzword.lower() in text for buzzword in self.primary_buzzwords)\n",
    "\n",
    "    def contains_required_percentage_of_secondary_buzzwords(self, text):\n",
    "        text = text.lower()\n",
    "        buzzwords_found = sum(1 for buzzword in self.secondary_buzzwords if buzzword.lower() in text)\n",
    "        required_count = len(self.secondary_buzzwords) * self.required_percentage\n",
    "        return buzzwords_found >= required_count\n",
    "\n",
    "    def fetch_news(self, tickers, items=50):\n",
    "        if not tickers:\n",
    "            raise ValueError(\"Tickers cannot be None or empty.\")\n",
    "        \n",
    "        params = {\n",
    "            'tickers': ','.join(tickers),\n",
    "            'items': items,\n",
    "            'token': self.api_key\n",
    "        }\n",
    "        \n",
    "        if self.date_range:  # Include date range if provided\n",
    "            params['date'] = self.date_range\n",
    "\n",
    "        response = requests.get(self.base_url, params=params)\n",
    "        if response.status_code == 200:\n",
    "            return response.json()\n",
    "        else:\n",
    "            print(f\"Failed to fetch news articles. Status code: {response.status_code}\")\n",
    "            return None\n",
    "\n",
    "    def filter_articles(self, news_data):\n",
    "        filtered_articles = []\n",
    "        if news_data and 'data' in news_data:\n",
    "            for article in news_data['data']:\n",
    "                content = article['title'] + \" \" + article.get('text', \"\")\n",
    "                if self.contains_any_primary_buzzwords(content) and self.contains_required_percentage_of_secondary_buzzwords(content):\n",
    "                    filtered_articles.append(article)\n",
    "        return filtered_articles\n",
    "\n",
    "    def display_articles(self, news_data):\n",
    "        filtered_articles = self.filter_articles(news_data)\n",
    "        if filtered_articles:\n",
    "            data = [{\n",
    "                'title': article['title'],\n",
    "                'date': article['date'],\n",
    "                'source': article['source_name'],\n",
    "                'url': article['news_url'],\n",
    "                'tickers': ', '.join(article.get('tickers', [])),\n",
    "                'sentiment': article.get('sentiment', 'Neutral')\n",
    "            } for article in filtered_articles]\n",
    "            df = pd.DataFrame(data)\n",
    "            return df\n",
    "        else:\n",
    "            print(\"No articles found.\")\n",
    "            return None\n",
    "\n",
    "# Example usage:\n",
    "api_key = 'fb1djkh9jqeydywd5bzgxws5gt1tc20nbx9hbnn1' \n",
    "primary_buzzwords = [\"growth\", \"investment\", \"revenue\"]\n",
    "secondary_buzzwords = [\"merger\", \"earnings\", \"market\"]\n",
    "tickers = ['AAPL', 'TSLA', 'GOOGL']  # Example tickers\n",
    "date_range = '03152019-03252019'  # Example date range (MMDDYYYY-MMDDYYYY) or 'last7days', etc.\n",
    "scraper = StockNewsAPIScraper(api_key, primary_buzzwords, secondary_buzzwords, required_percentage=50, date_range=date_range)\n",
    "news_data = scraper.fetch_news(['AAPL'])\n",
    "if news_data:\n",
    "    news_df = scraper.display_articles(news_data)\n",
    "    if news_df is not None:\n",
    "        display(news_df)\n"
   ]
  },
  {
   "cell_type": "code",
   "execution_count": 76,
   "metadata": {},
   "outputs": [
    {
     "name": "stdout",
     "output_type": "stream",
     "text": [
      "Failed to fetch news articles. Status code: 422\n"
     ]
    }
   ],
   "source": []
  },
  {
   "cell_type": "code",
   "execution_count": null,
   "metadata": {},
   "outputs": [],
   "source": []
  }
 ],
 "metadata": {
  "kernelspec": {
   "display_name": "erdos_fall_2024",
   "language": "python",
   "name": "python3"
  },
  "language_info": {
   "codemirror_mode": {
    "name": "ipython",
    "version": 3
   },
   "file_extension": ".py",
   "mimetype": "text/x-python",
   "name": "python",
   "nbconvert_exporter": "python",
   "pygments_lexer": "ipython3",
   "version": "3.12.5"
  }
 },
 "nbformat": 4,
 "nbformat_minor": 2
}
