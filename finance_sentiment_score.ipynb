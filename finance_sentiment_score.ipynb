{
 "cells": [
  {
   "cell_type": "code",
   "execution_count": 31,
   "metadata": {},
   "outputs": [],
   "source": [
    "import pandas as pd\n",
    "from newspaper import Article\n",
    "import requests"
   ]
  },
  {
   "cell_type": "code",
   "execution_count": 2,
   "metadata": {},
   "outputs": [],
   "source": [
    "# Import the appropriate functions from the vader library \n",
    "from vaderSentiment.vaderSentiment import SentimentIntensityAnalyzer"
   ]
  },
  {
   "cell_type": "code",
   "execution_count": 77,
   "metadata": {},
   "outputs": [],
   "source": [
    "class SentimentScoreAnalyzer:\n",
    "    def __init__(self, keywords, stock_symbol):\n",
    "        self.keywords = keywords\n",
    "        self.stock_symbol = stock_symbol\n",
    "        self.analyzer = SentimentIntensityAnalyzer()\n",
    "\n",
    "    def map_article_to_stock(self, article_title, article_text):\n",
    "        combined_text = f\"{article_title} {article_text}\".lower()\n",
    "        for keyword in self.keywords:\n",
    "            if keyword.lower() in combined_text:\n",
    "                return self.stock_symbol\n",
    "        return None\n",
    "\n",
    "    def fetch_article_text(self, url):\n",
    "        headers = {\n",
    "            'User-Agent': 'Mozilla/5.0 (Windows NT 10.0; Win64; x64) AppleWebKit/537.36 (KHTML, like Gecko) Chrome/87.0.4280.88 Safari/537.36'\n",
    "        }\n",
    "        try:\n",
    "            response = requests.get(url, headers=headers)\n",
    "            response.raise_for_status()  # Raises HTTP errors if they occur\n",
    "            \n",
    "            article = Article(url)\n",
    "            article.set_html(response.text)\n",
    "            article.parse()\n",
    "            return article.text\n",
    "        except requests.exceptions.HTTPError as e:\n",
    "            status_code = e.response.status_code\n",
    "            if status_code == 403:\n",
    "                print(f\"Access forbidden for URL: {url}\")\n",
    "            elif status_code == 401:\n",
    "                print(f\"Unauthorized access for URL: {url}\")\n",
    "            elif status_code == 404:\n",
    "                print(f\"Article not found at URL: {url}\")\n",
    "            elif status_code == 422:\n",
    "                print(f\"Unprocessable content at URL: {url}\")\n",
    "            elif status_code == 502:\n",
    "                print(f\"Bad gateway error for URL: {url}. Retrying might help.\")\n",
    "            else:\n",
    "                print(f\"HTTP error occurred for URL {url}: {e}\")\n",
    "            return None\n",
    "        except Exception as e:\n",
    "            print(f\"Error fetching article text for URL {url}: {e}\")\n",
    "            return None\n",
    "\n",
    "    def add_sentiment_scores_to_df(self, df, filename):\n",
    "        sentiment_scores = []\n",
    "        \n",
    "        for _, row in df.iterrows():\n",
    "            title = row['title']\n",
    "            url = row['url']\n",
    "            article_text = self.fetch_article_text(url)\n",
    "\n",
    "            content = title + \" \" + article_text if article_text else title\n",
    "            if self.map_article_to_stock(title, article_text):\n",
    "                sentiment = self.analyzer.polarity_scores(content)\n",
    "                sentiment_scores.append(sentiment['compound'])\n",
    "            else:\n",
    "                sentiment_scores.append(0)\n",
    "\n",
    "        df['compound sentiment score'] = sentiment_scores\n",
    "        df.dropna(subset=['compound sentiment score'], inplace=True)\n",
    "        df.to_csv(filename, index=False, encoding='utf-8')\n",
    "        print(f\"Sentiment scores saved to {filename}\")"
   ]
  },
  {
   "cell_type": "code",
   "execution_count": 68,
   "metadata": {},
   "outputs": [],
   "source": [
    "data_it = pd.read_csv('/Users/rishabhbhardwaj/Desktop/Bootcamp project/NewsAPI/IT_all_news.csv')\n",
    "df_it = pd.DataFrame(data_it)\n",
    "\n",
    "# Convert the date_time column to datetime format\n",
    "df_it['publishedAt'] = pd.to_datetime(df_it['publishedAt'])\n",
    "\n",
    "# Sort by date_time in ascending order (past to future)\n",
    "df_it = df_it.sort_values(by='publishedAt').reset_index(drop=True).drop_duplicates()"
   ]
  },
  {
   "cell_type": "code",
   "execution_count": 75,
   "metadata": {},
   "outputs": [],
   "source": [
    "data_cons = pd.read_csv('/Users/rishabhbhardwaj/Desktop/Bootcamp project/NewsAPI/consumers_all_news.csv')\n",
    "df_cons = pd.DataFrame(data_cons)\n",
    "\n",
    "# Convert the date_time column to datetime format\n",
    "df_cons['publishedAt'] = pd.to_datetime(df_cons['publishedAt'])\n",
    "\n",
    "# Sort by date_time in ascending order (past to future)\n",
    "df_cons = df_cons.sort_values(by='publishedAt').reset_index(drop=True).drop_duplicates()"
   ]
  },
  {
   "cell_type": "code",
   "execution_count": 80,
   "metadata": {},
   "outputs": [],
   "source": [
    "data_comm = pd.read_csv('/Users/rishabhbhardwaj/Desktop/Bootcamp project/NewsAPI/communication_all_news.csv')\n",
    "df_comm = pd.DataFrame(data_comm)\n",
    "\n",
    "# Convert the date_time column to datetime format\n",
    "df_comm['publishedAt'] = pd.to_datetime(df_cons['publishedAt'])\n",
    "\n",
    "# Sort by date_time in ascending order (past to future)\n",
    "df_comm = df_comm.sort_values(by='publishedAt').reset_index(drop=True).drop_duplicates()"
   ]
  },
  {
   "cell_type": "code",
   "execution_count": 62,
   "metadata": {},
   "outputs": [
    {
     "name": "stdout",
     "output_type": "stream",
     "text": [
      "Error fetching article text: 403 Client Error: Forbidden for url: https://www.business-standard.com/world-news/us-president-biden-discourages-israel-from-attacking-iran-s-oil-fields-124100500089_1.html\n"
     ]
    }
   ],
   "source": [
    "keywords = [\"microsoft\",\"msft\",\"bill gates\",\"gates\",\"information\",\"technology\",\"cybersecurity\"\n",
    "            ,\" ai \",\"artificial\",\"windows\",\"intel\",\"software\",\"silicon\",\"chips\"]\n",
    "analyzer = SentimentScoreAnalyzer(keywords, 'MSFT')\n",
    "result_df = analyzer.add_sentiment_scores_to_df(df_msft, \"msft_sentiment_scores.csv\")"
   ]
  },
  {
   "cell_type": "code",
   "execution_count": 69,
   "metadata": {},
   "outputs": [
    {
     "name": "stdout",
     "output_type": "stream",
     "text": [
      "Error fetching article text: 403 Client Error: Forbidden for url: https://www.business-standard.com/world-news/us-president-biden-discourages-israel-from-attacking-iran-s-oil-fields-124100500089_1.html\n"
     ]
    }
   ],
   "source": [
    "keywords = [\"apple\",\"aapl\",\"tim cook\",\"cook\",\"information\",\"technology\",\"cybersecurity\"\n",
    "            ,\" ai \",\"artificial\",\"macos\",\"macbook\",\"software\",\"iphone\",\"chips\"]\n",
    "analyzer = SentimentScoreAnalyzer(keywords, 'AAPL')\n",
    "result_df = analyzer.add_sentiment_scores_to_df(df_it, \"aapl_sentiment_scores.csv\")"
   ]
  },
  {
   "cell_type": "code",
   "execution_count": 70,
   "metadata": {},
   "outputs": [
    {
     "name": "stdout",
     "output_type": "stream",
     "text": [
      "Error fetching article text: 403 Client Error: Forbidden for url: https://www.business-standard.com/world-news/us-president-biden-discourages-israel-from-attacking-iran-s-oil-fields-124100500089_1.html\n"
     ]
    }
   ],
   "source": [
    "keywords = [\"nvidia\",\"nvda\",\"jensen huang\",\"information\",\"technology\",\"supercomputing\"\n",
    "            ,\" ai \",\"artificial\",\"macos\",\"graphics processing unit (GPU)\",\"software\"\n",
    "            ,\"deep learning\",\"autonomous vehicles\",\"gaming and esports\",\"edge computing\"]\n",
    "analyzer = SentimentScoreAnalyzer(keywords, 'NVDA')\n",
    "result_df = analyzer.add_sentiment_scores_to_df(df_it, \"nvda_sentiment_scores.csv\")"
   ]
  },
  {
   "cell_type": "code",
   "execution_count": 78,
   "metadata": {},
   "outputs": [
    {
     "name": "stdout",
     "output_type": "stream",
     "text": [
      "Access forbidden for URL: https://undark.org/2024/09/23/h5n1-old-drug-protect-against-new-pandemic/\n",
      "Unauthorized access for URL: https://consent.yahoo.com/v2/collectConsent?sessionId=1_cc-session_a5bcc80c-318c-43dd-b61d-0f75e161cc92\n",
      "Unprocessable content at URL: https://phys.org/news/2024-09-cement-coastline-ecosystems.html\n",
      "Unprocessable content at URL: https://phys.org/news/2024-09-chief-sea-threatens-tide-misery.html\n",
      "Article not found at URL: https://abcnews.go.com/US/wireStory/hurricane-helene-unusual-fujiwhara-effect-114208917\n",
      "Unprocessable content at URL: https://phys.org/news/2024-09-regional-climate-essential-effective-policy.html\n",
      "Bad gateway error for URL: https://springwise.com/innovation/sustainability/modular-floating-land-tackles-climate-change/. Retrying might help.\n",
      "Access forbidden for URL: https://parade.com/health/top-vaccine-myth-to-stop-believing-according-to-infectious-disease-experts\n",
      "Sentiment scores saved to amzn_sentiment_scores.csv\n"
     ]
    }
   ],
   "source": [
    "keywords = [\"amazon\",\"amzn\",\"jeff bezos\",\"bezos\",\"retail\",\"supply chain\",\"household\",\n",
    "            \"e-commerce\",\"aws\",\" ai \",\"delivery\",\"streaming\",\"digital\"]\n",
    "analyzer = SentimentScoreAnalyzer(keywords, 'AMZN')\n",
    "result_df = analyzer.add_sentiment_scores_to_df(df_cons, \"amzn_sentiment_scores.csv\")"
   ]
  },
  {
   "cell_type": "code",
   "execution_count": 82,
   "metadata": {},
   "outputs": [
    {
     "name": "stdout",
     "output_type": "stream",
     "text": [
      "Bad gateway error for URL: https://springwise.com/innovation/sustainability/modular-floating-land-tackles-climate-change/. Retrying might help.\n",
      "Unprocessable content at URL: https://phys.org/news/2024-10-climate-escalating-crisis-urges-action.html\n",
      "Sentiment scores saved to goog_sentiment_scores.csv\n"
     ]
    }
   ],
   "source": [
    "keywords = [\"alphabet\",\"goog\",\"broadband\",\"5g\",\"media\",\" ai \", \"sundar pichai\",\"pichai\",\"cloud computing\"\n",
    "            ,\"data privacy\",\"data\",\"youtube\",\"android os\",\"quantum computing\",\"search engine optimization\"]\n",
    "analyzer = SentimentScoreAnalyzer(keywords, 'GOOG')\n",
    "result_df = analyzer.add_sentiment_scores_to_df(df_comm, \"goog_sentiment_scores.csv\")"
   ]
  },
  {
   "cell_type": "code",
   "execution_count": null,
   "metadata": {},
   "outputs": [],
   "source": []
  }
 ],
 "metadata": {
  "kernelspec": {
   "display_name": "erdos_fall_2024",
   "language": "python",
   "name": "python3"
  },
  "language_info": {
   "codemirror_mode": {
    "name": "ipython",
    "version": 3
   },
   "file_extension": ".py",
   "mimetype": "text/x-python",
   "name": "python",
   "nbconvert_exporter": "python",
   "pygments_lexer": "ipython3",
   "version": "3.12.5"
  }
 },
 "nbformat": 4,
 "nbformat_minor": 2
}
