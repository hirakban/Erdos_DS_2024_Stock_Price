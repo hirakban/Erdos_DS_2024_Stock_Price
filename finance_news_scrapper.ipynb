{
 "cells": [
  {
   "cell_type": "markdown",
   "metadata": {},
   "source": [
    "# Description of the `FinanceNewsScraper` Class\n",
    "\n",
    "The `FinanceNewsScraper` class is designed to scrape financial news articles from the business section of Google News based on a set of specified buzzwords and a given date range.\n",
    "\n",
    "- **Initialization (`__init__`)**: \n",
    "  - The scraper accepts two sets of buzzwords:\n",
    "    - **Must-have buzzwords**: Keywords that must appear in the article title or description.\n",
    "    - **Percentage-based buzzwords**: Keywords that need to match a certain percentage within the article.\n",
    "  - It also takes a `start_date`, `end_date`, and an interval for scraping in chunks (e.g., weekly).\n",
    "\n",
    "- **URL Construction (`construct_url`)**: \n",
    "  - This function builds a Google News RSS URL specifically for the business section, incorporating the provided buzzwords and date range.\n",
    "\n",
    "- **Fetching Data (`fetch_rss_feed`)**: \n",
    "  - This function retrieves the RSS feed using the constructed URL, retrying up to three times if errors are encountered.\n",
    "  - **Robust Retry Mechanism**:\n",
    "      - To ensure stable scraping even when there are network issues, the class includes a retry mechanism. It retries the process multiple times if it fails to retrieve the Yahoo Finance page, adding reliability to the data extraction process.\n",
    "\n",
    "\n",
    "- **Keyword Matching**:\n",
    "  - **Must-have buzzwords**: Ensures that at least one must-have buzzword appears in the article's title or description.\n",
    "  - **Percentage-based buzzwords**: Verifies that a minimum percentage of the provided buzzwords are present in the article.\n",
    "\n",
    "- **Article Parsing (`parse_articles`)**: \n",
    "  - This function parses the RSS feed and extracts relevant information such as the article title, URL, and publication date, but only for articles that match the buzzword criteria.\n",
    "\n",
    "- **Scraping (`scrape`)**: \n",
    "  - This method iterates through the specified date range, fetching and parsing articles in chunks as defined by the provided interval.\n",
    "\n",
    "- **Saving to CSV (`save_to_csv`)**: \n",
    "  - After scraping, the articles are saved to a CSV file using the `pandas` library for easy storage and further analysis.\n",
    "\n",
    "This class simplifies the process of scraping Google News for business-related articles based on keywords, while also offering functionality to save the results as a CSV file for later analysis.\n"
   ]
  },
  {
   "cell_type": "code",
   "execution_count": 1,
   "metadata": {},
   "outputs": [],
   "source": [
    "import requests\n",
    "import random\n",
    "from bs4 import BeautifulSoup\n",
    "from datetime import datetime, timedelta\n",
    "import math\n",
    "import time\n",
    "import csv\n",
    "import pandas as pd"
   ]
  },
  {
   "cell_type": "code",
   "execution_count": 17,
   "metadata": {},
   "outputs": [],
   "source": [
    "class FinanceNewsScraper:\n",
    "    def __init__(self, primary_buzzwords, secondary_buzzwords, start_date, end_date, required_percentage, interval):\n",
    "        \"\"\"\n",
    "        Initialize the scraper with two sets of buzzwords, start date, end date, and required percentage.\n",
    "        :param primary_buzzwords: List of buzzwords that must be present.\n",
    "        :param secondary_buzzwords: List of buzzwords to search for with percentage matching.\n",
    "        :param start_date: The start date (YYYY-MM-DD) for the articles.\n",
    "        :param end_date: The end date (YYYY-MM-DD) for the articles.\n",
    "        :param required_percentage: The percentage of percentage-based buzzwords that should be present (default 60%).\n",
    "        \"\"\"\n",
    "        self.primary_buzzwords = primary_buzzwords\n",
    "        self.secondary_buzzwords = secondary_buzzwords\n",
    "        self.start_date = datetime.strptime(start_date, '%Y-%m-%d')\n",
    "        self.end_date = datetime.strptime(end_date, '%Y-%m-%d')\n",
    "        self.required_percentage = required_percentage / 100  # Convert percentage to decimal for calculations\n",
    "        self.base_url = \"https://news.google.com/rss\"\n",
    "        self.interval = interval\n",
    "        self.max_retries = 3  # Number of retries in case of failure\n",
    "\n",
    "    def construct_url(self, start_date, end_date):\n",
    "        \"\"\"\n",
    "        Construct the Google News RSS URL with all buzzwords and date range.\n",
    "        :return: The constructed URL.\n",
    "        \"\"\"\n",
    "        combined_buzzwords = self.primary_buzzwords + self.secondary_buzzwords\n",
    "        query = \" AND \".join(combined_buzzwords)  # Combine all buzzwords with 'AND' to ensure all words are present\n",
    "        formatted_query = query.replace(\" \", \"%20\")  # Format query for URL\n",
    "        \n",
    "        url = f\"{self.base_url}?q={formatted_query}+after:{start_date}+before:{end_date}&hl=en-US&gl=US&ceid=US:en\"\n",
    "        \n",
    "        return url\n",
    "\n",
    "    def fetch_rss_feed(self, start_date, end_date, max_retries=5, backoff_factor=2):\n",
    "        \"\"\"\n",
    "        Fetch the RSS feed from Google News for a given date range, with retries and exponential backoff to avoid 503 errors.\n",
    "        :param start_date: The start date for fetching articles.\n",
    "        :param end_date: The end date for fetching articles.\n",
    "        :param max_retries: Maximum number of retries if the request fails.\n",
    "        :param backoff_factor: Factor by which the wait time increases after each failure.\n",
    "        :return: BeautifulSoup object with the RSS feed content.\n",
    "        \"\"\"\n",
    "        rss_url = self.construct_url(start_date, end_date)\n",
    "        attempt = 0\n",
    "        delay = 5  # Start with an initial delay of 5 seconds\n",
    "\n",
    "        while attempt < max_retries:\n",
    "            try:\n",
    "                response = requests.get(rss_url, headers={'User-Agent': 'Mozilla/5.0'})\n",
    "                \n",
    "                if response.status_code == 200:\n",
    "                    return BeautifulSoup(response.content, 'xml')  # Parsing as XML\n",
    "                else:\n",
    "                    print(f\"Failed to retrieve RSS feed with status code {response.status_code}. Retrying...\")\n",
    "\n",
    "            except requests.RequestException as e:\n",
    "                print(f\"Error fetching the RSS feed: {e}. Retrying...\")\n",
    "\n",
    "            # Apply the exponential backoff\n",
    "            attempt += 1\n",
    "            time.sleep(delay)\n",
    "            delay *= backoff_factor  # Increase the delay exponentially\n",
    "\n",
    "        print(\"Max retries exceeded. Could not fetch the RSS feed.\")\n",
    "        return None\n",
    "\n",
    "\n",
    "    def contains_any_primary_buzzwords(self, text):\n",
    "        \"\"\"\n",
    "        Check if any must-have buzzwords are present in the given text.\n",
    "        :param text: The text to search for must-have buzzwords (case-insensitive).\n",
    "        :return: True if at least one must-have buzzword is found, False otherwise.\n",
    "        \"\"\"\n",
    "        text = text.lower()\n",
    "        return any(buzzword.lower() in text for buzzword in self.primary_buzzwords)\n",
    "\n",
    "    def contains_percentage_of_buzzwords(self, text):\n",
    "        \"\"\"\n",
    "        Check if at least the required percentage of percentage-based buzzwords are present in the given text.\n",
    "        :param text: The text to search for percentage-based buzzwords (case-insensitive).\n",
    "        :return: True if the required percentage of percentage-based buzzwords are found, False otherwise.\n",
    "        \"\"\"\n",
    "        text = text.lower()\n",
    "        buzzwords_found = sum(1 for buzzword in self.secondary_buzzwords if buzzword.lower() in text)\n",
    "        required_count = math.ceil(len(self.secondary_buzzwords) * self.required_percentage)\n",
    "        \n",
    "        # The condition now checks if at least the required count of buzzwords is found\n",
    "        return buzzwords_found >= required_count\n",
    "\n",
    "    def parse_articles(self, soup):\n",
    "        \"\"\"\n",
    "        Parse the RSS feed and extract article information.\n",
    "        Only return articles where all must-have buzzwords and a percentage of percentage-based buzzwords are found.\n",
    "        :param soup: BeautifulSoup object of the RSS feed.\n",
    "        :return: List of dictionaries with article titles, URLs, and publication dates.\n",
    "        \"\"\"\n",
    "        articles = []\n",
    "        for item in soup.find_all('item'):\n",
    "            title = item.title.text\n",
    "            link = item.link.text\n",
    "            description = item.description.text if item.description else \"\"\n",
    "            pub_date = item.pubDate.text\n",
    "            pub_date = datetime.strptime(pub_date, '%a, %d %b %Y %H:%M:%S %Z')  # Format the date\n",
    "            \n",
    "            # Check if any must-have buzzwords are present in title or description\n",
    "            first_100_words = \" \".join(description.split()[:100])\n",
    "            if self.contains_any_primary_buzzwords(title) or self.contains_any_primary_buzzwords(first_100_words):\n",
    "                # Check if the required percentage of percentage-based buzzwords are present\n",
    "                if self.contains_percentage_of_buzzwords(title) or self.contains_percentage_of_buzzwords(first_100_words):\n",
    "                    articles.append({'title': title, 'url': link, 'date': pub_date})\n",
    "        return articles\n",
    "\n",
    "    def scrape(self):\n",
    "        \"\"\"\n",
    "        Scrape the RSS feed and extract articles that match both must-have and percentage-based buzzwords.\n",
    "        :return: List of articles (titles, URLs, and dates).\n",
    "        \"\"\"\n",
    "        all_articles = []\n",
    "        delta = timedelta(days=self.interval)  # Fetch in intervals (e.g., weekly)\n",
    "        current_start_date = self.start_date\n",
    "        print(f\"Fetching articles from {current_start_date.strftime('%Y-%m-%d')} to {self.end_date.strftime('%Y-%m-%d')}\")\n",
    "\n",
    "        # Loop through the date range with the specified interval\n",
    "        while current_start_date < self.end_date:\n",
    "            current_end_date = min(current_start_date + delta, self.end_date)\n",
    "\n",
    "            soup = self.fetch_rss_feed(current_start_date.strftime('%Y-%m-%d'),\n",
    "                                       current_end_date.strftime('%Y-%m-%d'))\n",
    "            if soup:\n",
    "                articles = self.parse_articles(soup)\n",
    "                all_articles.extend(articles)\n",
    "\n",
    "            current_start_date += delta  # Move to the next interval\n",
    "\n",
    "        if all_articles:\n",
    "            print(f\"Found {len(all_articles)} articles matching the criteria.\")\n",
    "        else:\n",
    "            print(\"No articles found matching the criteria.\")\n",
    "        return all_articles\n",
    "\n",
    "    def save_to_csv(articles, filename):\n",
    "        \"\"\"\n",
    "        Save the scraped articles to a CSV file using pandas.\n",
    "        :param articles: List of articles with title, URL, and date.\n",
    "        :param filename: The name of the CSV file (default is \"articles.csv\").\n",
    "        \"\"\"\n",
    "        # Convert the list of articles to a pandas DataFrame and drop duplicates in case there are any\n",
    "        df = pd.DataFrame(articles).drop_duplicates()\n",
    "        \n",
    "        # Save DataFrame to CSV\n",
    "        df.to_csv(filename, index=False, encoding='utf-8') "
   ]
  },
  {
   "cell_type": "code",
   "execution_count": 18,
   "metadata": {},
   "outputs": [
    {
     "name": "stdout",
     "output_type": "stream",
     "text": [
      "Fetching articles from 2022-10-27 to 2024-10-27\n",
      "Failed to retrieve RSS feed with status code 503. Retrying...\n",
      "Failed to retrieve RSS feed with status code 503. Retrying...\n",
      "Failed to retrieve RSS feed with status code 503. Retrying...\n",
      "Failed to retrieve RSS feed with status code 503. Retrying...\n",
      "Failed to retrieve RSS feed with status code 503. Retrying...\n",
      "Max retries exceeded. Could not fetch the RSS feed.\n"
     ]
    },
    {
     "ename": "KeyboardInterrupt",
     "evalue": "",
     "output_type": "error",
     "traceback": [
      "\u001b[0;31m---------------------------------------------------------------------------\u001b[0m",
      "\u001b[0;31mKeyboardInterrupt\u001b[0m                         Traceback (most recent call last)",
      "Cell \u001b[0;32mIn[18], line 14\u001b[0m\n\u001b[1;32m     11\u001b[0m interval \u001b[38;5;241m=\u001b[39m \u001b[38;5;241m1\u001b[39m\n\u001b[1;32m     13\u001b[0m scraper_news \u001b[38;5;241m=\u001b[39m FinanceNewsScraper(primary_buzzwords, secondary_buzzwords, start_date, end_date, required_percentage, interval)\n\u001b[0;32m---> 14\u001b[0m articles_news \u001b[38;5;241m=\u001b[39m \u001b[43mscraper_news\u001b[49m\u001b[38;5;241;43m.\u001b[39;49m\u001b[43mscrape\u001b[49m\u001b[43m(\u001b[49m\u001b[43m)\u001b[49m\n\u001b[1;32m     16\u001b[0m \u001b[38;5;66;03m# Save the output as CSV files \u001b[39;00m\n\u001b[1;32m     17\u001b[0m FinanceNewsScraper\u001b[38;5;241m.\u001b[39msave_to_csv(articles_news, \u001b[38;5;124m\"\u001b[39m\u001b[38;5;124mgoogle_news_geopolitical_energy.csv\u001b[39m\u001b[38;5;124m\"\u001b[39m)\n",
      "Cell \u001b[0;32mIn[17], line 126\u001b[0m, in \u001b[0;36mFinanceNewsScraper.scrape\u001b[0;34m(self)\u001b[0m\n\u001b[1;32m    123\u001b[0m \u001b[38;5;28;01mwhile\u001b[39;00m current_start_date \u001b[38;5;241m<\u001b[39m \u001b[38;5;28mself\u001b[39m\u001b[38;5;241m.\u001b[39mend_date:\n\u001b[1;32m    124\u001b[0m     current_end_date \u001b[38;5;241m=\u001b[39m \u001b[38;5;28mmin\u001b[39m(current_start_date \u001b[38;5;241m+\u001b[39m delta, \u001b[38;5;28mself\u001b[39m\u001b[38;5;241m.\u001b[39mend_date)\n\u001b[0;32m--> 126\u001b[0m     soup \u001b[38;5;241m=\u001b[39m \u001b[38;5;28;43mself\u001b[39;49m\u001b[38;5;241;43m.\u001b[39;49m\u001b[43mfetch_rss_feed\u001b[49m\u001b[43m(\u001b[49m\u001b[43mcurrent_start_date\u001b[49m\u001b[38;5;241;43m.\u001b[39;49m\u001b[43mstrftime\u001b[49m\u001b[43m(\u001b[49m\u001b[38;5;124;43m'\u001b[39;49m\u001b[38;5;124;43m%\u001b[39;49m\u001b[38;5;124;43mY-\u001b[39;49m\u001b[38;5;124;43m%\u001b[39;49m\u001b[38;5;124;43mm-\u001b[39;49m\u001b[38;5;132;43;01m%d\u001b[39;49;00m\u001b[38;5;124;43m'\u001b[39;49m\u001b[43m)\u001b[49m\u001b[43m,\u001b[49m\n\u001b[1;32m    127\u001b[0m \u001b[43m                               \u001b[49m\u001b[43mcurrent_end_date\u001b[49m\u001b[38;5;241;43m.\u001b[39;49m\u001b[43mstrftime\u001b[49m\u001b[43m(\u001b[49m\u001b[38;5;124;43m'\u001b[39;49m\u001b[38;5;124;43m%\u001b[39;49m\u001b[38;5;124;43mY-\u001b[39;49m\u001b[38;5;124;43m%\u001b[39;49m\u001b[38;5;124;43mm-\u001b[39;49m\u001b[38;5;132;43;01m%d\u001b[39;49;00m\u001b[38;5;124;43m'\u001b[39;49m\u001b[43m)\u001b[49m\u001b[43m)\u001b[49m\n\u001b[1;32m    128\u001b[0m     \u001b[38;5;28;01mif\u001b[39;00m soup:\n\u001b[1;32m    129\u001b[0m         articles \u001b[38;5;241m=\u001b[39m \u001b[38;5;28mself\u001b[39m\u001b[38;5;241m.\u001b[39mparse_articles(soup)\n",
      "Cell \u001b[0;32mIn[17], line 48\u001b[0m, in \u001b[0;36mFinanceNewsScraper.fetch_rss_feed\u001b[0;34m(self, start_date, end_date, max_retries, backoff_factor)\u001b[0m\n\u001b[1;32m     46\u001b[0m \u001b[38;5;28;01mwhile\u001b[39;00m attempt \u001b[38;5;241m<\u001b[39m max_retries:\n\u001b[1;32m     47\u001b[0m     \u001b[38;5;28;01mtry\u001b[39;00m:\n\u001b[0;32m---> 48\u001b[0m         response \u001b[38;5;241m=\u001b[39m \u001b[43mrequests\u001b[49m\u001b[38;5;241;43m.\u001b[39;49m\u001b[43mget\u001b[49m\u001b[43m(\u001b[49m\u001b[43mrss_url\u001b[49m\u001b[43m,\u001b[49m\u001b[43m \u001b[49m\u001b[43mheaders\u001b[49m\u001b[38;5;241;43m=\u001b[39;49m\u001b[43m{\u001b[49m\u001b[38;5;124;43m'\u001b[39;49m\u001b[38;5;124;43mUser-Agent\u001b[39;49m\u001b[38;5;124;43m'\u001b[39;49m\u001b[43m:\u001b[49m\u001b[43m \u001b[49m\u001b[38;5;124;43m'\u001b[39;49m\u001b[38;5;124;43mMozilla/5.0\u001b[39;49m\u001b[38;5;124;43m'\u001b[39;49m\u001b[43m}\u001b[49m\u001b[43m)\u001b[49m\n\u001b[1;32m     50\u001b[0m         \u001b[38;5;28;01mif\u001b[39;00m response\u001b[38;5;241m.\u001b[39mstatus_code \u001b[38;5;241m==\u001b[39m \u001b[38;5;241m200\u001b[39m:\n\u001b[1;32m     51\u001b[0m             \u001b[38;5;28;01mreturn\u001b[39;00m BeautifulSoup(response\u001b[38;5;241m.\u001b[39mcontent, \u001b[38;5;124m'\u001b[39m\u001b[38;5;124mxml\u001b[39m\u001b[38;5;124m'\u001b[39m)  \u001b[38;5;66;03m# Parsing as XML\u001b[39;00m\n",
      "File \u001b[0;32m~/miniconda3/envs/erdos_fall_2024/lib/python3.12/site-packages/requests/api.py:73\u001b[0m, in \u001b[0;36mget\u001b[0;34m(url, params, **kwargs)\u001b[0m\n\u001b[1;32m     62\u001b[0m \u001b[38;5;28;01mdef\u001b[39;00m \u001b[38;5;21mget\u001b[39m(url, params\u001b[38;5;241m=\u001b[39m\u001b[38;5;28;01mNone\u001b[39;00m, \u001b[38;5;241m*\u001b[39m\u001b[38;5;241m*\u001b[39mkwargs):\n\u001b[1;32m     63\u001b[0m \u001b[38;5;250m    \u001b[39m\u001b[38;5;124mr\u001b[39m\u001b[38;5;124;03m\"\"\"Sends a GET request.\u001b[39;00m\n\u001b[1;32m     64\u001b[0m \n\u001b[1;32m     65\u001b[0m \u001b[38;5;124;03m    :param url: URL for the new :class:`Request` object.\u001b[39;00m\n\u001b[0;32m   (...)\u001b[0m\n\u001b[1;32m     70\u001b[0m \u001b[38;5;124;03m    :rtype: requests.Response\u001b[39;00m\n\u001b[1;32m     71\u001b[0m \u001b[38;5;124;03m    \"\"\"\u001b[39;00m\n\u001b[0;32m---> 73\u001b[0m     \u001b[38;5;28;01mreturn\u001b[39;00m \u001b[43mrequest\u001b[49m\u001b[43m(\u001b[49m\u001b[38;5;124;43m\"\u001b[39;49m\u001b[38;5;124;43mget\u001b[39;49m\u001b[38;5;124;43m\"\u001b[39;49m\u001b[43m,\u001b[49m\u001b[43m \u001b[49m\u001b[43murl\u001b[49m\u001b[43m,\u001b[49m\u001b[43m \u001b[49m\u001b[43mparams\u001b[49m\u001b[38;5;241;43m=\u001b[39;49m\u001b[43mparams\u001b[49m\u001b[43m,\u001b[49m\u001b[43m \u001b[49m\u001b[38;5;241;43m*\u001b[39;49m\u001b[38;5;241;43m*\u001b[39;49m\u001b[43mkwargs\u001b[49m\u001b[43m)\u001b[49m\n",
      "File \u001b[0;32m~/miniconda3/envs/erdos_fall_2024/lib/python3.12/site-packages/requests/api.py:59\u001b[0m, in \u001b[0;36mrequest\u001b[0;34m(method, url, **kwargs)\u001b[0m\n\u001b[1;32m     55\u001b[0m \u001b[38;5;66;03m# By using the 'with' statement we are sure the session is closed, thus we\u001b[39;00m\n\u001b[1;32m     56\u001b[0m \u001b[38;5;66;03m# avoid leaving sockets open which can trigger a ResourceWarning in some\u001b[39;00m\n\u001b[1;32m     57\u001b[0m \u001b[38;5;66;03m# cases, and look like a memory leak in others.\u001b[39;00m\n\u001b[1;32m     58\u001b[0m \u001b[38;5;28;01mwith\u001b[39;00m sessions\u001b[38;5;241m.\u001b[39mSession() \u001b[38;5;28;01mas\u001b[39;00m session:\n\u001b[0;32m---> 59\u001b[0m     \u001b[38;5;28;01mreturn\u001b[39;00m \u001b[43msession\u001b[49m\u001b[38;5;241;43m.\u001b[39;49m\u001b[43mrequest\u001b[49m\u001b[43m(\u001b[49m\u001b[43mmethod\u001b[49m\u001b[38;5;241;43m=\u001b[39;49m\u001b[43mmethod\u001b[49m\u001b[43m,\u001b[49m\u001b[43m \u001b[49m\u001b[43murl\u001b[49m\u001b[38;5;241;43m=\u001b[39;49m\u001b[43murl\u001b[49m\u001b[43m,\u001b[49m\u001b[43m \u001b[49m\u001b[38;5;241;43m*\u001b[39;49m\u001b[38;5;241;43m*\u001b[39;49m\u001b[43mkwargs\u001b[49m\u001b[43m)\u001b[49m\n",
      "File \u001b[0;32m~/miniconda3/envs/erdos_fall_2024/lib/python3.12/site-packages/requests/sessions.py:589\u001b[0m, in \u001b[0;36mSession.request\u001b[0;34m(self, method, url, params, data, headers, cookies, files, auth, timeout, allow_redirects, proxies, hooks, stream, verify, cert, json)\u001b[0m\n\u001b[1;32m    584\u001b[0m send_kwargs \u001b[38;5;241m=\u001b[39m {\n\u001b[1;32m    585\u001b[0m     \u001b[38;5;124m\"\u001b[39m\u001b[38;5;124mtimeout\u001b[39m\u001b[38;5;124m\"\u001b[39m: timeout,\n\u001b[1;32m    586\u001b[0m     \u001b[38;5;124m\"\u001b[39m\u001b[38;5;124mallow_redirects\u001b[39m\u001b[38;5;124m\"\u001b[39m: allow_redirects,\n\u001b[1;32m    587\u001b[0m }\n\u001b[1;32m    588\u001b[0m send_kwargs\u001b[38;5;241m.\u001b[39mupdate(settings)\n\u001b[0;32m--> 589\u001b[0m resp \u001b[38;5;241m=\u001b[39m \u001b[38;5;28;43mself\u001b[39;49m\u001b[38;5;241;43m.\u001b[39;49m\u001b[43msend\u001b[49m\u001b[43m(\u001b[49m\u001b[43mprep\u001b[49m\u001b[43m,\u001b[49m\u001b[43m \u001b[49m\u001b[38;5;241;43m*\u001b[39;49m\u001b[38;5;241;43m*\u001b[39;49m\u001b[43msend_kwargs\u001b[49m\u001b[43m)\u001b[49m\n\u001b[1;32m    591\u001b[0m \u001b[38;5;28;01mreturn\u001b[39;00m resp\n",
      "File \u001b[0;32m~/miniconda3/envs/erdos_fall_2024/lib/python3.12/site-packages/requests/sessions.py:703\u001b[0m, in \u001b[0;36mSession.send\u001b[0;34m(self, request, **kwargs)\u001b[0m\n\u001b[1;32m    700\u001b[0m start \u001b[38;5;241m=\u001b[39m preferred_clock()\n\u001b[1;32m    702\u001b[0m \u001b[38;5;66;03m# Send the request\u001b[39;00m\n\u001b[0;32m--> 703\u001b[0m r \u001b[38;5;241m=\u001b[39m \u001b[43madapter\u001b[49m\u001b[38;5;241;43m.\u001b[39;49m\u001b[43msend\u001b[49m\u001b[43m(\u001b[49m\u001b[43mrequest\u001b[49m\u001b[43m,\u001b[49m\u001b[43m \u001b[49m\u001b[38;5;241;43m*\u001b[39;49m\u001b[38;5;241;43m*\u001b[39;49m\u001b[43mkwargs\u001b[49m\u001b[43m)\u001b[49m\n\u001b[1;32m    705\u001b[0m \u001b[38;5;66;03m# Total elapsed time of the request (approximately)\u001b[39;00m\n\u001b[1;32m    706\u001b[0m elapsed \u001b[38;5;241m=\u001b[39m preferred_clock() \u001b[38;5;241m-\u001b[39m start\n",
      "File \u001b[0;32m~/miniconda3/envs/erdos_fall_2024/lib/python3.12/site-packages/requests/adapters.py:667\u001b[0m, in \u001b[0;36mHTTPAdapter.send\u001b[0;34m(self, request, stream, timeout, verify, cert, proxies)\u001b[0m\n\u001b[1;32m    664\u001b[0m     timeout \u001b[38;5;241m=\u001b[39m TimeoutSauce(connect\u001b[38;5;241m=\u001b[39mtimeout, read\u001b[38;5;241m=\u001b[39mtimeout)\n\u001b[1;32m    666\u001b[0m \u001b[38;5;28;01mtry\u001b[39;00m:\n\u001b[0;32m--> 667\u001b[0m     resp \u001b[38;5;241m=\u001b[39m \u001b[43mconn\u001b[49m\u001b[38;5;241;43m.\u001b[39;49m\u001b[43murlopen\u001b[49m\u001b[43m(\u001b[49m\n\u001b[1;32m    668\u001b[0m \u001b[43m        \u001b[49m\u001b[43mmethod\u001b[49m\u001b[38;5;241;43m=\u001b[39;49m\u001b[43mrequest\u001b[49m\u001b[38;5;241;43m.\u001b[39;49m\u001b[43mmethod\u001b[49m\u001b[43m,\u001b[49m\n\u001b[1;32m    669\u001b[0m \u001b[43m        \u001b[49m\u001b[43murl\u001b[49m\u001b[38;5;241;43m=\u001b[39;49m\u001b[43murl\u001b[49m\u001b[43m,\u001b[49m\n\u001b[1;32m    670\u001b[0m \u001b[43m        \u001b[49m\u001b[43mbody\u001b[49m\u001b[38;5;241;43m=\u001b[39;49m\u001b[43mrequest\u001b[49m\u001b[38;5;241;43m.\u001b[39;49m\u001b[43mbody\u001b[49m\u001b[43m,\u001b[49m\n\u001b[1;32m    671\u001b[0m \u001b[43m        \u001b[49m\u001b[43mheaders\u001b[49m\u001b[38;5;241;43m=\u001b[39;49m\u001b[43mrequest\u001b[49m\u001b[38;5;241;43m.\u001b[39;49m\u001b[43mheaders\u001b[49m\u001b[43m,\u001b[49m\n\u001b[1;32m    672\u001b[0m \u001b[43m        \u001b[49m\u001b[43mredirect\u001b[49m\u001b[38;5;241;43m=\u001b[39;49m\u001b[38;5;28;43;01mFalse\u001b[39;49;00m\u001b[43m,\u001b[49m\n\u001b[1;32m    673\u001b[0m \u001b[43m        \u001b[49m\u001b[43massert_same_host\u001b[49m\u001b[38;5;241;43m=\u001b[39;49m\u001b[38;5;28;43;01mFalse\u001b[39;49;00m\u001b[43m,\u001b[49m\n\u001b[1;32m    674\u001b[0m \u001b[43m        \u001b[49m\u001b[43mpreload_content\u001b[49m\u001b[38;5;241;43m=\u001b[39;49m\u001b[38;5;28;43;01mFalse\u001b[39;49;00m\u001b[43m,\u001b[49m\n\u001b[1;32m    675\u001b[0m \u001b[43m        \u001b[49m\u001b[43mdecode_content\u001b[49m\u001b[38;5;241;43m=\u001b[39;49m\u001b[38;5;28;43;01mFalse\u001b[39;49;00m\u001b[43m,\u001b[49m\n\u001b[1;32m    676\u001b[0m \u001b[43m        \u001b[49m\u001b[43mretries\u001b[49m\u001b[38;5;241;43m=\u001b[39;49m\u001b[38;5;28;43mself\u001b[39;49m\u001b[38;5;241;43m.\u001b[39;49m\u001b[43mmax_retries\u001b[49m\u001b[43m,\u001b[49m\n\u001b[1;32m    677\u001b[0m \u001b[43m        \u001b[49m\u001b[43mtimeout\u001b[49m\u001b[38;5;241;43m=\u001b[39;49m\u001b[43mtimeout\u001b[49m\u001b[43m,\u001b[49m\n\u001b[1;32m    678\u001b[0m \u001b[43m        \u001b[49m\u001b[43mchunked\u001b[49m\u001b[38;5;241;43m=\u001b[39;49m\u001b[43mchunked\u001b[49m\u001b[43m,\u001b[49m\n\u001b[1;32m    679\u001b[0m \u001b[43m    \u001b[49m\u001b[43m)\u001b[49m\n\u001b[1;32m    681\u001b[0m \u001b[38;5;28;01mexcept\u001b[39;00m (ProtocolError, \u001b[38;5;167;01mOSError\u001b[39;00m) \u001b[38;5;28;01mas\u001b[39;00m err:\n\u001b[1;32m    682\u001b[0m     \u001b[38;5;28;01mraise\u001b[39;00m \u001b[38;5;167;01mConnectionError\u001b[39;00m(err, request\u001b[38;5;241m=\u001b[39mrequest)\n",
      "File \u001b[0;32m~/miniconda3/envs/erdos_fall_2024/lib/python3.12/site-packages/urllib3/connectionpool.py:716\u001b[0m, in \u001b[0;36mHTTPConnectionPool.urlopen\u001b[0;34m(self, method, url, body, headers, retries, redirect, assert_same_host, timeout, pool_timeout, release_conn, chunked, body_pos, **response_kw)\u001b[0m\n\u001b[1;32m    713\u001b[0m     \u001b[38;5;28mself\u001b[39m\u001b[38;5;241m.\u001b[39m_prepare_proxy(conn)\n\u001b[1;32m    715\u001b[0m \u001b[38;5;66;03m# Make the request on the httplib connection object.\u001b[39;00m\n\u001b[0;32m--> 716\u001b[0m httplib_response \u001b[38;5;241m=\u001b[39m \u001b[38;5;28;43mself\u001b[39;49m\u001b[38;5;241;43m.\u001b[39;49m\u001b[43m_make_request\u001b[49m\u001b[43m(\u001b[49m\n\u001b[1;32m    717\u001b[0m \u001b[43m    \u001b[49m\u001b[43mconn\u001b[49m\u001b[43m,\u001b[49m\n\u001b[1;32m    718\u001b[0m \u001b[43m    \u001b[49m\u001b[43mmethod\u001b[49m\u001b[43m,\u001b[49m\n\u001b[1;32m    719\u001b[0m \u001b[43m    \u001b[49m\u001b[43murl\u001b[49m\u001b[43m,\u001b[49m\n\u001b[1;32m    720\u001b[0m \u001b[43m    \u001b[49m\u001b[43mtimeout\u001b[49m\u001b[38;5;241;43m=\u001b[39;49m\u001b[43mtimeout_obj\u001b[49m\u001b[43m,\u001b[49m\n\u001b[1;32m    721\u001b[0m \u001b[43m    \u001b[49m\u001b[43mbody\u001b[49m\u001b[38;5;241;43m=\u001b[39;49m\u001b[43mbody\u001b[49m\u001b[43m,\u001b[49m\n\u001b[1;32m    722\u001b[0m \u001b[43m    \u001b[49m\u001b[43mheaders\u001b[49m\u001b[38;5;241;43m=\u001b[39;49m\u001b[43mheaders\u001b[49m\u001b[43m,\u001b[49m\n\u001b[1;32m    723\u001b[0m \u001b[43m    \u001b[49m\u001b[43mchunked\u001b[49m\u001b[38;5;241;43m=\u001b[39;49m\u001b[43mchunked\u001b[49m\u001b[43m,\u001b[49m\n\u001b[1;32m    724\u001b[0m \u001b[43m\u001b[49m\u001b[43m)\u001b[49m\n\u001b[1;32m    726\u001b[0m \u001b[38;5;66;03m# If we're going to release the connection in ``finally:``, then\u001b[39;00m\n\u001b[1;32m    727\u001b[0m \u001b[38;5;66;03m# the response doesn't need to know about the connection. Otherwise\u001b[39;00m\n\u001b[1;32m    728\u001b[0m \u001b[38;5;66;03m# it will also try to release it and we'll have a double-release\u001b[39;00m\n\u001b[1;32m    729\u001b[0m \u001b[38;5;66;03m# mess.\u001b[39;00m\n\u001b[1;32m    730\u001b[0m response_conn \u001b[38;5;241m=\u001b[39m conn \u001b[38;5;28;01mif\u001b[39;00m \u001b[38;5;129;01mnot\u001b[39;00m release_conn \u001b[38;5;28;01melse\u001b[39;00m \u001b[38;5;28;01mNone\u001b[39;00m\n",
      "File \u001b[0;32m~/miniconda3/envs/erdos_fall_2024/lib/python3.12/site-packages/urllib3/connectionpool.py:468\u001b[0m, in \u001b[0;36mHTTPConnectionPool._make_request\u001b[0;34m(self, conn, method, url, timeout, chunked, **httplib_request_kw)\u001b[0m\n\u001b[1;32m    463\u001b[0m             httplib_response \u001b[38;5;241m=\u001b[39m conn\u001b[38;5;241m.\u001b[39mgetresponse()\n\u001b[1;32m    464\u001b[0m         \u001b[38;5;28;01mexcept\u001b[39;00m \u001b[38;5;167;01mBaseException\u001b[39;00m \u001b[38;5;28;01mas\u001b[39;00m e:\n\u001b[1;32m    465\u001b[0m             \u001b[38;5;66;03m# Remove the TypeError from the exception chain in\u001b[39;00m\n\u001b[1;32m    466\u001b[0m             \u001b[38;5;66;03m# Python 3 (including for exceptions like SystemExit).\u001b[39;00m\n\u001b[1;32m    467\u001b[0m             \u001b[38;5;66;03m# Otherwise it looks like a bug in the code.\u001b[39;00m\n\u001b[0;32m--> 468\u001b[0m             \u001b[43msix\u001b[49m\u001b[38;5;241;43m.\u001b[39;49m\u001b[43mraise_from\u001b[49m\u001b[43m(\u001b[49m\u001b[43me\u001b[49m\u001b[43m,\u001b[49m\u001b[43m \u001b[49m\u001b[38;5;28;43;01mNone\u001b[39;49;00m\u001b[43m)\u001b[49m\n\u001b[1;32m    469\u001b[0m \u001b[38;5;28;01mexcept\u001b[39;00m (SocketTimeout, BaseSSLError, SocketError) \u001b[38;5;28;01mas\u001b[39;00m e:\n\u001b[1;32m    470\u001b[0m     \u001b[38;5;28mself\u001b[39m\u001b[38;5;241m.\u001b[39m_raise_timeout(err\u001b[38;5;241m=\u001b[39me, url\u001b[38;5;241m=\u001b[39murl, timeout_value\u001b[38;5;241m=\u001b[39mread_timeout)\n",
      "File \u001b[0;32m<string>:3\u001b[0m, in \u001b[0;36mraise_from\u001b[0;34m(value, from_value)\u001b[0m\n",
      "File \u001b[0;32m~/miniconda3/envs/erdos_fall_2024/lib/python3.12/site-packages/urllib3/connectionpool.py:463\u001b[0m, in \u001b[0;36mHTTPConnectionPool._make_request\u001b[0;34m(self, conn, method, url, timeout, chunked, **httplib_request_kw)\u001b[0m\n\u001b[1;32m    460\u001b[0m \u001b[38;5;28;01mexcept\u001b[39;00m \u001b[38;5;167;01mTypeError\u001b[39;00m:\n\u001b[1;32m    461\u001b[0m     \u001b[38;5;66;03m# Python 3\u001b[39;00m\n\u001b[1;32m    462\u001b[0m     \u001b[38;5;28;01mtry\u001b[39;00m:\n\u001b[0;32m--> 463\u001b[0m         httplib_response \u001b[38;5;241m=\u001b[39m \u001b[43mconn\u001b[49m\u001b[38;5;241;43m.\u001b[39;49m\u001b[43mgetresponse\u001b[49m\u001b[43m(\u001b[49m\u001b[43m)\u001b[49m\n\u001b[1;32m    464\u001b[0m     \u001b[38;5;28;01mexcept\u001b[39;00m \u001b[38;5;167;01mBaseException\u001b[39;00m \u001b[38;5;28;01mas\u001b[39;00m e:\n\u001b[1;32m    465\u001b[0m         \u001b[38;5;66;03m# Remove the TypeError from the exception chain in\u001b[39;00m\n\u001b[1;32m    466\u001b[0m         \u001b[38;5;66;03m# Python 3 (including for exceptions like SystemExit).\u001b[39;00m\n\u001b[1;32m    467\u001b[0m         \u001b[38;5;66;03m# Otherwise it looks like a bug in the code.\u001b[39;00m\n\u001b[1;32m    468\u001b[0m         six\u001b[38;5;241m.\u001b[39mraise_from(e, \u001b[38;5;28;01mNone\u001b[39;00m)\n",
      "File \u001b[0;32m~/miniconda3/envs/erdos_fall_2024/lib/python3.12/http/client.py:1428\u001b[0m, in \u001b[0;36mHTTPConnection.getresponse\u001b[0;34m(self)\u001b[0m\n\u001b[1;32m   1426\u001b[0m \u001b[38;5;28;01mtry\u001b[39;00m:\n\u001b[1;32m   1427\u001b[0m     \u001b[38;5;28;01mtry\u001b[39;00m:\n\u001b[0;32m-> 1428\u001b[0m         \u001b[43mresponse\u001b[49m\u001b[38;5;241;43m.\u001b[39;49m\u001b[43mbegin\u001b[49m\u001b[43m(\u001b[49m\u001b[43m)\u001b[49m\n\u001b[1;32m   1429\u001b[0m     \u001b[38;5;28;01mexcept\u001b[39;00m \u001b[38;5;167;01mConnectionError\u001b[39;00m:\n\u001b[1;32m   1430\u001b[0m         \u001b[38;5;28mself\u001b[39m\u001b[38;5;241m.\u001b[39mclose()\n",
      "File \u001b[0;32m~/miniconda3/envs/erdos_fall_2024/lib/python3.12/http/client.py:331\u001b[0m, in \u001b[0;36mHTTPResponse.begin\u001b[0;34m(self)\u001b[0m\n\u001b[1;32m    329\u001b[0m \u001b[38;5;66;03m# read until we get a non-100 response\u001b[39;00m\n\u001b[1;32m    330\u001b[0m \u001b[38;5;28;01mwhile\u001b[39;00m \u001b[38;5;28;01mTrue\u001b[39;00m:\n\u001b[0;32m--> 331\u001b[0m     version, status, reason \u001b[38;5;241m=\u001b[39m \u001b[38;5;28;43mself\u001b[39;49m\u001b[38;5;241;43m.\u001b[39;49m\u001b[43m_read_status\u001b[49m\u001b[43m(\u001b[49m\u001b[43m)\u001b[49m\n\u001b[1;32m    332\u001b[0m     \u001b[38;5;28;01mif\u001b[39;00m status \u001b[38;5;241m!=\u001b[39m CONTINUE:\n\u001b[1;32m    333\u001b[0m         \u001b[38;5;28;01mbreak\u001b[39;00m\n",
      "File \u001b[0;32m~/miniconda3/envs/erdos_fall_2024/lib/python3.12/http/client.py:292\u001b[0m, in \u001b[0;36mHTTPResponse._read_status\u001b[0;34m(self)\u001b[0m\n\u001b[1;32m    291\u001b[0m \u001b[38;5;28;01mdef\u001b[39;00m \u001b[38;5;21m_read_status\u001b[39m(\u001b[38;5;28mself\u001b[39m):\n\u001b[0;32m--> 292\u001b[0m     line \u001b[38;5;241m=\u001b[39m \u001b[38;5;28mstr\u001b[39m(\u001b[38;5;28;43mself\u001b[39;49m\u001b[38;5;241;43m.\u001b[39;49m\u001b[43mfp\u001b[49m\u001b[38;5;241;43m.\u001b[39;49m\u001b[43mreadline\u001b[49m\u001b[43m(\u001b[49m\u001b[43m_MAXLINE\u001b[49m\u001b[43m \u001b[49m\u001b[38;5;241;43m+\u001b[39;49m\u001b[43m \u001b[49m\u001b[38;5;241;43m1\u001b[39;49m\u001b[43m)\u001b[49m, \u001b[38;5;124m\"\u001b[39m\u001b[38;5;124miso-8859-1\u001b[39m\u001b[38;5;124m\"\u001b[39m)\n\u001b[1;32m    293\u001b[0m     \u001b[38;5;28;01mif\u001b[39;00m \u001b[38;5;28mlen\u001b[39m(line) \u001b[38;5;241m>\u001b[39m _MAXLINE:\n\u001b[1;32m    294\u001b[0m         \u001b[38;5;28;01mraise\u001b[39;00m LineTooLong(\u001b[38;5;124m\"\u001b[39m\u001b[38;5;124mstatus line\u001b[39m\u001b[38;5;124m\"\u001b[39m)\n",
      "File \u001b[0;32m~/miniconda3/envs/erdos_fall_2024/lib/python3.12/socket.py:720\u001b[0m, in \u001b[0;36mSocketIO.readinto\u001b[0;34m(self, b)\u001b[0m\n\u001b[1;32m    718\u001b[0m \u001b[38;5;28;01mwhile\u001b[39;00m \u001b[38;5;28;01mTrue\u001b[39;00m:\n\u001b[1;32m    719\u001b[0m     \u001b[38;5;28;01mtry\u001b[39;00m:\n\u001b[0;32m--> 720\u001b[0m         \u001b[38;5;28;01mreturn\u001b[39;00m \u001b[38;5;28;43mself\u001b[39;49m\u001b[38;5;241;43m.\u001b[39;49m\u001b[43m_sock\u001b[49m\u001b[38;5;241;43m.\u001b[39;49m\u001b[43mrecv_into\u001b[49m\u001b[43m(\u001b[49m\u001b[43mb\u001b[49m\u001b[43m)\u001b[49m\n\u001b[1;32m    721\u001b[0m     \u001b[38;5;28;01mexcept\u001b[39;00m timeout:\n\u001b[1;32m    722\u001b[0m         \u001b[38;5;28mself\u001b[39m\u001b[38;5;241m.\u001b[39m_timeout_occurred \u001b[38;5;241m=\u001b[39m \u001b[38;5;28;01mTrue\u001b[39;00m\n",
      "File \u001b[0;32m~/miniconda3/envs/erdos_fall_2024/lib/python3.12/ssl.py:1252\u001b[0m, in \u001b[0;36mSSLSocket.recv_into\u001b[0;34m(self, buffer, nbytes, flags)\u001b[0m\n\u001b[1;32m   1248\u001b[0m     \u001b[38;5;28;01mif\u001b[39;00m flags \u001b[38;5;241m!=\u001b[39m \u001b[38;5;241m0\u001b[39m:\n\u001b[1;32m   1249\u001b[0m         \u001b[38;5;28;01mraise\u001b[39;00m \u001b[38;5;167;01mValueError\u001b[39;00m(\n\u001b[1;32m   1250\u001b[0m           \u001b[38;5;124m\"\u001b[39m\u001b[38;5;124mnon-zero flags not allowed in calls to recv_into() on \u001b[39m\u001b[38;5;132;01m%s\u001b[39;00m\u001b[38;5;124m\"\u001b[39m \u001b[38;5;241m%\u001b[39m\n\u001b[1;32m   1251\u001b[0m           \u001b[38;5;28mself\u001b[39m\u001b[38;5;241m.\u001b[39m\u001b[38;5;18m__class__\u001b[39m)\n\u001b[0;32m-> 1252\u001b[0m     \u001b[38;5;28;01mreturn\u001b[39;00m \u001b[38;5;28;43mself\u001b[39;49m\u001b[38;5;241;43m.\u001b[39;49m\u001b[43mread\u001b[49m\u001b[43m(\u001b[49m\u001b[43mnbytes\u001b[49m\u001b[43m,\u001b[49m\u001b[43m \u001b[49m\u001b[43mbuffer\u001b[49m\u001b[43m)\u001b[49m\n\u001b[1;32m   1253\u001b[0m \u001b[38;5;28;01melse\u001b[39;00m:\n\u001b[1;32m   1254\u001b[0m     \u001b[38;5;28;01mreturn\u001b[39;00m \u001b[38;5;28msuper\u001b[39m()\u001b[38;5;241m.\u001b[39mrecv_into(buffer, nbytes, flags)\n",
      "File \u001b[0;32m~/miniconda3/envs/erdos_fall_2024/lib/python3.12/ssl.py:1104\u001b[0m, in \u001b[0;36mSSLSocket.read\u001b[0;34m(self, len, buffer)\u001b[0m\n\u001b[1;32m   1102\u001b[0m \u001b[38;5;28;01mtry\u001b[39;00m:\n\u001b[1;32m   1103\u001b[0m     \u001b[38;5;28;01mif\u001b[39;00m buffer \u001b[38;5;129;01mis\u001b[39;00m \u001b[38;5;129;01mnot\u001b[39;00m \u001b[38;5;28;01mNone\u001b[39;00m:\n\u001b[0;32m-> 1104\u001b[0m         \u001b[38;5;28;01mreturn\u001b[39;00m \u001b[38;5;28;43mself\u001b[39;49m\u001b[38;5;241;43m.\u001b[39;49m\u001b[43m_sslobj\u001b[49m\u001b[38;5;241;43m.\u001b[39;49m\u001b[43mread\u001b[49m\u001b[43m(\u001b[49m\u001b[38;5;28;43mlen\u001b[39;49m\u001b[43m,\u001b[49m\u001b[43m \u001b[49m\u001b[43mbuffer\u001b[49m\u001b[43m)\u001b[49m\n\u001b[1;32m   1105\u001b[0m     \u001b[38;5;28;01melse\u001b[39;00m:\n\u001b[1;32m   1106\u001b[0m         \u001b[38;5;28;01mreturn\u001b[39;00m \u001b[38;5;28mself\u001b[39m\u001b[38;5;241m.\u001b[39m_sslobj\u001b[38;5;241m.\u001b[39mread(\u001b[38;5;28mlen\u001b[39m)\n",
      "\u001b[0;31mKeyboardInterrupt\u001b[0m: "
     ]
    }
   ],
   "source": [
    "primary_buzzwords = [\"exxon\", \"xom\", \"chevron\", \"cvx\", \"viper\", \"vnom\", \"murphy\", \"mur\",\"gas\",\n",
    "                     \"petrol\",\"fuel\",\"price\",\"oil\",\"shell\",\"carbon\",\"hydrogen\",\"nuclear\",\"coal\",\"fossil\",\n",
    "                     \"energy\",\"smart grid\",\"power\"]\n",
    "secondary_buzzwords =  [\"israel\", \"gaza\", \"palestine\", \"conflict\", \"war\", \"hamas\", \n",
    "                       \"ukraine\", \"russia\",\"airstrike\",\"attack\", \"crisis\",\"oil\",\"prices\",\"nato\",\"invasion\"\n",
    "                       \"iran\",\"afghanistan\",\"china\",\"taiwan\",\"military\",\"air strike\",\"balakot\",\"india-pakistan\"\n",
    "                       \"indo-pacific\",\"south china sea\",\"market\",\"nuclear\",\"escalate\",\"zelensky\",\"putin\"]   # List of buzzwords to search for\n",
    "start_date = '2022-10-27'\n",
    "end_date = '2024-10-27'  # End date\n",
    "required_percentage = 10  # required_percentage% of the secondary buzzwords should be in title or description\n",
    "interval = 1\n",
    "\n",
    "scraper_news = FinanceNewsScraper(primary_buzzwords, secondary_buzzwords, start_date, end_date, required_percentage, interval)\n",
    "articles_news = scraper_news.scrape()\n",
    "\n",
    "# Save the output as CSV files \n",
    "FinanceNewsScraper.save_to_csv(articles_news, \"google_news_geopolitical_energy.csv\")"
   ]
  },
  {
   "cell_type": "markdown",
   "metadata": {},
   "source": [
    "### `FinanceNewsAPIScraper` Class Description\n",
    "\n",
    "The `FinanceNewsAPIScraper` class is designed to fetch, filter, and save news articles from NewsAPI based on specified buzzwords. Key functionalities:\n",
    "\n",
    "- **Initialization**: Takes in an API key, primary and secondary buzzwords, date range, and retry settings.\n",
    "- **Fetch News**: Sends API requests and retries if rate limits are hit.\n",
    "- **Filter**: Filters articles to ensure primary buzzwords are present, with a required percentage of secondary buzzwords.\n",
    "- **Display & Save**: Displays the filtered articles and provides an option to save them to a CSV file.\n",
    "\n",
    "### Key Methods:\n",
    "- `fetch_news()`\n",
    "- `filter_articles()`\n",
    "- `display_articles()`\n"
   ]
  },
  {
   "cell_type": "code",
   "execution_count": 22,
   "metadata": {},
   "outputs": [],
   "source": [
    "class FinanceNewsAPIScraper:\n",
    "    def __init__(self, api_key, primary_buzzwords, secondary_buzzwords, start_date, end_date, required_percentage, retry_after):\n",
    "        self.api_key = api_key\n",
    "        self.primary_buzzwords = primary_buzzwords\n",
    "        self.secondary_buzzwords = secondary_buzzwords\n",
    "        self.start_date = start_date\n",
    "        self.end_date = end_date\n",
    "        self.required_percentage = required_percentage / 100\n",
    "        self.base_url ='https://newsapi.org/v2/everything'\n",
    "        self.retry_after = retry_after\n",
    "\n",
    "    def contains_any_primary_buzzwords(self, text):\n",
    "        text = text.lower()\n",
    "        return any(buzzword.lower() in text for buzzword in self.primary_buzzwords)\n",
    "\n",
    "    def contains_required_percentage_of_secondary_buzzwords(self, text):\n",
    "        text = text.lower()\n",
    "        buzzwords_found = sum(1 for buzzword in self.secondary_buzzwords if buzzword.lower() in text)\n",
    "        required_count = math.ceil(len(self.secondary_buzzwords) * self.required_percentage)\n",
    "        return buzzwords_found >= required_count\n",
    "\n",
    "    def fetch_news(self, retries=3):\n",
    "        params = {\n",
    "                'q': ' OR '.join(self.primary_buzzwords + self.secondary_buzzwords),\n",
    "                'apiKey': self.api_key,\n",
    "                'from': self.start_date,\n",
    "                'to': self.end_date,\n",
    "                'language': 'en',\n",
    "                'sortBy': 'relevancy'\n",
    "            }\n",
    "        attempt = 0\n",
    "        while attempt < retries:\n",
    "            response = requests.get(self.base_url, params=params)\n",
    "            if response.status_code == 200:\n",
    "                return response.json()\n",
    "            elif response.status_code == 429:\n",
    "                print(f\"Rate limit exceeded. Retrying after {self.retry_after} seconds...\")\n",
    "                time.sleep(self.retry_after)\n",
    "            else:\n",
    "                print(f\"Failed to fetch news articles. Status code: {response.status_code}\")\n",
    "                return None\n",
    "            attempt += 1\n",
    "        print(\"Max retries exceeded. Could not fetch the news.\")\n",
    "        return None\n",
    "\n",
    "    def filter_articles(self, news_data):\n",
    "        filtered_articles = []\n",
    "        if news_data and 'articles' in news_data:\n",
    "            for article in news_data['articles']:\n",
    "                title = article['title']\n",
    "                description = article['description'] or \"\"\n",
    "                content = title + \" \" + description\n",
    "                if self.contains_any_primary_buzzwords(content) and self.contains_required_percentage_of_secondary_buzzwords(content):\n",
    "                    filtered_articles.append(article)\n",
    "        return filtered_articles\n",
    "\n",
    "    def display_articles(self, articles):\n",
    "        if articles:\n",
    "            for i, article in enumerate(articles, start=1):\n",
    "                print(f\"{i}. {article['title']} ({article['publishedAt']})\")\n",
    "        else:\n",
    "            print(\"No articles found.\")\n",
    "\n",
    "    def scrape_and_filter_news(self):\n",
    "        news_data = self.fetch_news()\n",
    "        if news_data:\n",
    "            filtered_articles = self.filter_articles(news_data)\n",
    "            self.display_articles(filtered_articles)\n",
    "            return filtered_articles  # Ensure filtered_articles is returned\n",
    "        else:\n",
    "            print(\"Failed to retrieve or filter articles.\")\n",
    "            return []\n",
    "\n",
    "    def save_to_csv(self, articles, filename):\n",
    "        if articles:\n",
    "            data = [{\n",
    "                'title': article['title'],\n",
    "                'publishedAt': article['publishedAt'],\n",
    "                'url': article['url']\n",
    "            } for article in articles]\n",
    "            df = pd.DataFrame(data)\n",
    "            df.to_csv(filename, index=False, encoding='utf-8')\n",
    "            print(f\"Articles saved to {filename}\")\n",
    "        else:\n",
    "            print(\"No articles to save.\")\n"
   ]
  },
  {
   "cell_type": "code",
   "execution_count": 21,
   "metadata": {},
   "outputs": [],
   "source": [
    "api_keys = ['51f3c8bce6b1473e9537d03fe37815e3','5d7f3433c9404b6aaba5c5db771f2c79','25d106c70b3c4ff3af1fb174e0afc2ed','5fd42a249293445fb159cdba3905b6ac','f49d4986d0cd4ec5b9a92905e9f6dc65']"
   ]
  },
  {
   "cell_type": "markdown",
   "metadata": {},
   "source": [
    "**News Focus:** `Geopoliticial conflicts`\n"
   ]
  },
  {
   "cell_type": "code",
   "execution_count": 131,
   "metadata": {},
   "outputs": [],
   "source": [
    "secondary_buzzwords = [\"israel\", \"gaza\", \"palestine\", \"conflict\", \"war\", \"hamas\", \n",
    "                       \"ukraine\", \"russia\",\"airstrike\",\"attack\", \"crisis\",\"oil\",\"nato\"\n",
    "                       \"iran\",\"afghanistan\",\"china\",\"taiwan\",\"military\"\n",
    "                        ,\"south china sea\",\"market\",\"nuclear\",\"escalate\",\"zelensky\",\"putin\"]  # List of buzzwords to search for\n",
    "required_percentage = 100/len(secondary_buzzwords)\n",
    "retry_after = 60\n",
    "start_date = '2024-09-27'\n",
    "end_date = '2024-10-27'"
   ]
  },
  {
   "cell_type": "markdown",
   "metadata": {},
   "source": [
    "**News Focus:** `Climate events`\n"
   ]
  },
  {
   "cell_type": "code",
   "execution_count": 128,
   "metadata": {},
   "outputs": [],
   "source": [
    "secondary_buzzwords = [\"extreme weather\", \"climate crisis\", \"rising sea levels\", \"coastal erosion\", \"heatwaves\",\n",
    "    \"atmospheric rivers\", \"carbon emissions\",\"greenhouse gases\", \"renewable energy\", \"deforestation\", \"carbon footprint\",\n",
    "    \"sustainable development\", \"biodiversity loss\",\"hurricane\",\"tsunami\",\"floods\"]\n",
    " # List of buzzwords to search for\n",
    "required_percentage = 3\n",
    "retry_after = 60\n",
    "start_date = '2024-09-27'\n",
    "end_date = '2024-10-27'"
   ]
  },
  {
   "cell_type": "markdown",
   "metadata": {},
   "source": [
    "**News Focus:** `Elections`"
   ]
  },
  {
   "cell_type": "code",
   "execution_count": 105,
   "metadata": {},
   "outputs": [],
   "source": [
    "secondary_buzzwords = [\"trump\",\"kamala\",\"harris\",\"biden\",\"modi\",\"narendra\",\"xi\",\"putin\", \"election\", \n",
    "                       \"2024\",\"campaign\",\"vote\",\"voter\"]\n",
    " # List of buzzwords to search for\n",
    "required_percentage = 100/len(secondary_buzzwords)\n",
    "retry_after = 60\n",
    "start_date = '2024-09-27'\n",
    "end_date = '2024-10-27'"
   ]
  },
  {
   "cell_type": "markdown",
   "metadata": {},
   "source": [
    "**News Focus:** `Pandemics`"
   ]
  },
  {
   "cell_type": "code",
   "execution_count": 96,
   "metadata": {},
   "outputs": [],
   "source": [
    "secondary_buzzwords = [\"pandemic\",\"epidemic\",\"covid\",\"corona\",\"covid\",\"bird-flu\", \"public health crisis\", \"outbreak\", \"quarantine\",\n",
    "                        \"lockdown\",\"infection\", \"epicenter\",\"virus\",\"bacteria\",\"vaccine\",\"epicenter\"]\n",
    " # List of buzzwords to search for\n",
    "required_percentage = 100/len(secondary_buzzwords)\n",
    "retry_after = 60\n",
    "start_date = '2024-09-27'\n",
    "end_date = '2024-10-27'"
   ]
  },
  {
   "cell_type": "markdown",
   "metadata": {},
   "source": [
    "**News Focus:** `Government Policies`"
   ]
  },
  {
   "cell_type": "code",
   "execution_count": 94,
   "metadata": {},
   "outputs": [],
   "source": [
    "secondary_buzzwords = [\"tariffs\", \"sanctions\", \"subsidies\", \"regulations\", \"reforms\",\"taxation\", \"immigration\",\"trade\",\n",
    "                         \"defense\", \"cybersecurity\",\"privacy\", \"surveillance\", \"government\", \"monetary\",\n",
    "                        \"labor\", \"manufacturing\", \"exports\", \"imports\", \"automation\",\"health\", \"care\",\"housing\"] # List of buzzwords to search for\n",
    "               \n",
    "required_percentage = 100/len(secondary_buzzwords)\n",
    "retry_after = 60\n",
    "start_date = '2024-09-27'\n",
    "end_date = '2024-10-27'"
   ]
  },
  {
   "cell_type": "markdown",
   "metadata": {},
   "source": [
    "**Industry Focus:** `Energy`\n",
    "\n",
    "**Timeline:** `One month`\n",
    "\n",
    "In the US the two biggest stocks in these industries are `ExxonMobil` (XOM) and `Chevron` (CVX)\n",
    "\n",
    "*Stock Focus*: `XOM`, `CVX`, `WFRD`, `VNOM`."
   ]
  },
  {
   "cell_type": "code",
   "execution_count": 132,
   "metadata": {},
   "outputs": [
    {
     "name": "stdout",
     "output_type": "stream",
     "text": [
      "1. The World Is Still Hooked on Russian Energy—at Its Own Peril (2024-10-20T11:30:00Z)\n",
      "2. Jamie Dimon says the global order is at risk — and raging conflicts could explode into World War 3 (2024-10-25T15:49:49Z)\n",
      "3. The American Who Waged a Tech War on China (2024-10-10T10:00:00Z)\n",
      "4. 2 of the world's biggest oil producers are looking for new ways to power their economies (2024-10-22T02:43:33Z)\n",
      "5. Why the Oil Market Is Not Shocked (2024-10-20T12:00:00Z)\n",
      "6. China's economic issues are so serious that even the oil market doesn't care about Middle East tensions — for now (2024-10-01T06:38:56Z)\n",
      "7. World’s Top Uranium Miner Backs Nuclear Plant in Referendum (2024-10-07T10:04:10Z)\n",
      "8. Exclusive-Qatar LNG sales to key Asian markets confronted by US, UAE rivalry (2024-10-21T10:40:22Z)\n",
      "9. China nuclear sub sank in its dock, US officials say (2024-09-27T15:35:26Z)\n",
      "10. Stock market today: Tech rally leads stocks higher as oil prices plunge and earnings kick off (2024-10-08T20:12:25Z)\n",
      "11. Hard Nuclear Weapons Choices Await Harris or Trump as President (2024-10-03T10:45:00Z)\n",
      "12. Meet the Winner of the Nobel Peace Prize—Nihon Hidankyo (2024-10-11T14:51:21Z)\n",
      "13. China to offer Taliban tariff-free trade as it inches closer to isolated resource-rich regime (2024-10-25T05:48:24Z)\n",
      "14. The U.S. Is Electing a Wartime President (2024-10-22T16:25:00Z)\n",
      "15. Nuclear Tomb Must Survive (2024-10-22T02:00:07Z)\n",
      "16. Oil prices trim Middle East war risk-gains, China demand remains a worry (2024-10-22T01:29:29Z)\n",
      "17. Google hopes to spark chain reaction with nuclear energy investment (2024-10-15T07:15:08Z)\n",
      "18. Chinese Submarine That Sunk Had Exotic Hybrid Nuclear Powerplant: Report (2024-10-02T17:38:49Z)\n",
      "19. DoE awards next-gen nuclear fuel contracts backwards (2024-10-08T15:02:13Z)\n",
      "20. Dow Jones Futures Rise; Nvidia Climbs In Buy Area As China Stocks Sell Off (2024-10-08T13:12:07Z)\n",
      "21. How the US Lost the Solar Power Race To China (2024-10-09T20:11:00Z)\n",
      "22. US imposes sanctions on Iran’s oil sector over missile attack on Israel (2024-10-11T23:17:59Z)\n",
      "Articles saved to news_api_energy_one_month_geopolitical.csv\n"
     ]
    }
   ],
   "source": [
    "primary_buzzwords = [\"exxon\", \"xom\", \"chevron\", \"cvx\", \"viper\", \"vnom\", \"murphy\", \"mur\",\"gas\",\n",
    "                     \"petrol\",\"fuel\",\"price\",\"oil\",\"shell\",\"carbon\",\"hydrogen\",\"nuclear\",\"coal\",\"fossil\",\n",
    "                     \"energy\",\"smart grid\",\"power\"]\n",
    "scraper = FinanceNewsAPIScraper(api_keys[1], primary_buzzwords, secondary_buzzwords, start_date, end_date, required_percentage, retry_after)\n",
    "filtered_articles = scraper.scrape_and_filter_news()\n",
    "scraper.save_to_csv(filtered_articles, \"news_api_energy_one_month_geopolitical.csv\")"
   ]
  },
  {
   "cell_type": "markdown",
   "metadata": {},
   "source": [
    "**Industry Focus:** `Materials sector`\n",
    "\n",
    "**Timeline:** `One month`\n",
    "\n",
    "In the US the two biggest stocks in this industry are `Sherwin-Williams` (SHW) and `DuPont` (DD)\n",
    "\n",
    "*Stock Focus*: `SHW`, `DD`, `GOLD`, `RIO`."
   ]
  },
  {
   "cell_type": "code",
   "execution_count": 133,
   "metadata": {},
   "outputs": [
    {
     "name": "stdout",
     "output_type": "stream",
     "text": [
      "1. Vietnam condemns China for assault on its fishermen in the disputed South China Sea (2024-10-03T10:45:15Z)\n",
      "2. Vietnam Accuses China of ‘Brutal’ Attack on Fishing Boat in South China Sea (2024-10-04T03:45:00Z)\n",
      "3. Apple CEO Tim Cook and COO Jeff Williams Visiting China (2024-10-22T14:59:09Z)\n",
      "4. China's economic issues are so serious that even the oil market doesn't care about Middle East tensions — for now (2024-10-01T06:38:56Z)\n",
      "5. 11 Things You Should Never Put in the Dishwasher (2024-10-25T12:10:03Z)\n",
      "6. US bans new types of goods from China over allegations of forced labor (2024-10-02T18:46:00Z)\n",
      "Articles saved to news_api_materials_one_month_geopolitical.csv\n"
     ]
    }
   ],
   "source": [
    "api_key = '5d7f3433c9404b6aaba5c5db771f2c79'  \n",
    "primary_buzzwords = [\"sherwin\", \"williams\", \"shw\", \"dupont\", \"barrick\", \"gold\", \"rio\",\"tinto\",\"steel\",\n",
    "                     \"copper\",\"aluminum\",\"chemicals\",\"minning\",\"recycling\",\"bio-based\",\"materials\",\"carbon\",\n",
    "                     \"building\",\"cement\"]\n",
    "scraper = FinanceNewsAPIScraper(api_keys[1], primary_buzzwords, secondary_buzzwords, start_date, end_date, required_percentage, retry_after)\n",
    "filtered_articles = scraper.scrape_and_filter_news()\n",
    "scraper.save_to_csv(filtered_articles, \"news_api_materials_one_month_geopolitical.csv\")"
   ]
  },
  {
   "cell_type": "markdown",
   "metadata": {},
   "source": [
    "**Industry Focus:** `Industrials sector`\n",
    "\n",
    "**Timeline:** `One month`\n",
    "\n",
    "In the US the two biggest stocks in this industry are `UPS` (UPS) and `Raytheon` (RTX)\n",
    "\n",
    "*Stock Focus*: `UPS`, `RTX`, `DAL`, `UAL`,`LMT`,`BA`."
   ]
  },
  {
   "cell_type": "code",
   "execution_count": 134,
   "metadata": {},
   "outputs": [
    {
     "name": "stdout",
     "output_type": "stream",
     "text": [
      "1. The American Who Waged a Tech War on China (2024-10-10T10:00:00Z)\n",
      "2. Jamie Dimon says the global order is at risk — and raging conflicts could explode into World War 3 (2024-10-25T15:49:49Z)\n",
      "3. Putin hosts a summit in a bid to show the West it can't keep Russia off the global stage (2024-10-21T05:55:04Z)\n",
      "4. U.S. to send air defense system and troops to Israel (2024-10-13T17:36:05Z)\n",
      "5. Efforts by the US to counter China in the South China Sea could backfire (2024-10-12T07:00:01Z)\n",
      "6. China, at UN, warns against 'expansion of the battlefield' in the Ukraine war (2024-09-28T16:21:20Z)\n",
      "7. What's actually happening in the South China Sea? (2024-10-16T15:35:36Z)\n",
      "8. China is menacing Taiwan with a drone swarm attack — and the US is playing catch-up (2024-10-08T13:42:24Z)\n",
      "9. The West is trying to starve the wrong part of Russia's war machine, defense experts say (2024-10-20T11:23:01Z)\n",
      "10. What is the U.N. peacekeeping force stationed in Lebanon? (2024-10-11T22:22:00Z)\n",
      "11. DJI sues the US Department of Defense for labeling it a ‘Chinese Military Company’ (2024-10-19T07:28:04Z)\n",
      "12. Anduril's Palmer Luckey slammed restrictions on AI use in the military (2024-10-02T05:42:13Z)\n",
      "13. A defiant Putin closes global summit aimed at reshaping global order (2024-10-25T03:50:30Z)\n",
      "14. BRICS' new declaration shows Russia's war still can't get the international backing that Moscow wants (2024-10-24T07:36:46Z)\n",
      "15. Video shows one of Taiwan's F-16s tracking a Chinese J-15 fighter jet with its sniper pod during war games (2024-10-15T19:24:34Z)\n",
      "16. TikTok owner ByteDance unveils its first earbuds in China (2024-10-10T14:35:07Z)\n",
      "17. Wider Middle East conflict threatens the global economy — when the US and China already face headwinds, experts say (2024-10-04T08:58:26Z)\n",
      "18. How Defense Experts Got Ukraine Wrong (2024-09-27T12:00:00Z)\n",
      "19. Putin's dollar problem is on clear display at the BRICS summit, starting with the moment guests land at the airport (2024-10-23T09:08:09Z)\n",
      "20. DJI challenges its 'Chinese military company' Pentagon designation in court (2024-10-19T12:00:36Z)\n",
      "21. The Meteoric Rise of Temu and Pinduoduo—and What Might Finally Slow Them Down (2024-10-04T06:00:00Z)\n",
      "22. Investing in China's stock market is like 'picking up dimes in front of bulldozers' given the nation's long-running stagnation, 'Big Short' investor Kyle Bass says (2024-10-01T18:30:44Z)\n",
      "23. China nuclear sub sank in its dock, US officials say (2024-09-27T15:35:26Z)\n",
      "24. US approves $2 billion arms sale to Taiwan including Ukraine tested missile system (2024-10-26T02:19:32Z)\n",
      "25. Russia has decided 'at highest level' to remove Taliban from terrorist list, TASS reports (2024-10-04T10:23:43Z)\n",
      "26. Taiwan taps satellite hookups to help down invading drones (2024-10-18T11:00:00Z)\n",
      "27. White House warns China using overproduction for global dominance (2024-10-17T20:17:49Z)\n",
      "28. US laments 'disappointing' Swiss decision not to fully adopt latest EU sanctions against Russia (2024-10-18T16:45:28Z)\n",
      "29. The Abandonment of Ukraine (2024-09-30T15:37:27Z)\n",
      "30. Japan's new prime minister could try to shake up the country's military pact with the US (2024-09-27T10:11:34Z)\n",
      "31. Two men deny spying for China (2024-10-04T16:25:44Z)\n",
      "32. China to offer Taliban tariff-free trade as it inches closer to isolated resource-rich regime (2024-10-25T05:48:24Z)\n",
      "33. A year after October 7: How Hamas’s attack and Israel’s response broke the world (2024-10-04T13:35:07Z)\n",
      "34. The Week in Numbers: a shot of stimulus (2024-09-27T10:06:55Z)\n",
      "35. Does China now have a permanent military base in Cambodia? (2024-10-07T22:01:49Z)\n",
      "36. China urges India to handle Taiwan issue cautiously after Mumbai office opening (2024-10-17T08:56:07Z)\n",
      "37. Muted mic, abortion rights and civility - top takeaways from VP debate (2024-10-02T03:52:01Z)\n",
      "38. Taiwan's APCB to shift printed circuit board assembly to mainland unit, cut jobs on island (2024-10-09T09:30:00Z)\n",
      "39. World’s Top Uranium Miner Backs Nuclear Plant in Referendum (2024-10-07T10:04:10Z)\n",
      "Articles saved to news_api_industrials_one_month_geopolitical.csv\n"
     ]
    }
   ],
   "source": [
    "primary_buzzwords = [\"ups\", \"raytheon\", \"rtx\", \"delta\",\"airlines\",\"dal\",\"united\",\"ual\",\"lmt\",\"ba\",\"boeing\",\"machinery\"\n",
    "                     ,\"engineering\",\"automation\",\"defense\",\"aerospace\"]\n",
    "scraper = FinanceNewsAPIScraper(api_keys[1], primary_buzzwords, secondary_buzzwords, start_date, end_date, required_percentage, retry_after)\n",
    "filtered_articles = scraper.scrape_and_filter_news()\n",
    "scraper.save_to_csv(filtered_articles, \"news_api_industrials_one_month_geopolitical.csv\")"
   ]
  },
  {
   "cell_type": "markdown",
   "metadata": {},
   "source": [
    "**Industry Focus:** `Utilities sector`\n",
    "\n",
    "**Timeline:** `One month`\n",
    "\n",
    "In the US the two biggest stocks in this industry are `Duke energy` (DUK) and `Consolidated Edison` (ED)\n",
    "\n",
    "*Stock Focus*: `DUK`, `ED`."
   ]
  },
  {
   "cell_type": "code",
   "execution_count": 135,
   "metadata": {},
   "outputs": [
    {
     "name": "stdout",
     "output_type": "stream",
     "text": [
      "1. India and China agree to de-escalate border tensions (2024-10-21T11:06:40Z)\n",
      "2. The World Is Still Hooked on Russian Energy—at Its Own Peril (2024-10-20T11:30:00Z)\n",
      "3. The American Who Waged a Tech War on China (2024-10-10T10:00:00Z)\n",
      "4. 2 of the world's biggest oil producers are looking for new ways to power their economies (2024-10-22T02:43:33Z)\n",
      "5. Wider Middle East conflict threatens the global economy — when the US and China already face headwinds, experts say (2024-10-04T08:58:26Z)\n",
      "6. China, at UN, warns against 'expansion of the battlefield' in the Ukraine war (2024-09-28T16:21:20Z)\n",
      "7. Why the Oil Market Is Not Shocked (2024-10-20T12:00:00Z)\n",
      "8. A defiant Putin closes global summit aimed at reshaping global order (2024-10-25T03:50:30Z)\n",
      "9. TikTok owner ByteDance unveils its first earbuds in China (2024-10-10T14:35:07Z)\n",
      "10. Exclusive-Qatar LNG sales to key Asian markets confronted by US, UAE rivalry (2024-10-21T10:40:22Z)\n",
      "11. China wants Taiwan to make mistakes and is looking for excuses to trigger a blockade, Taiwan's navy commander says (2024-10-04T12:35:12Z)\n",
      "12. Vietnam condemns China for assault on its fishermen in the disputed South China Sea (2024-10-03T10:45:15Z)\n",
      "13. Stock market today: Tech rally leads stocks higher as oil prices plunge and earnings kick off (2024-10-08T20:12:25Z)\n",
      "14. BRICS' new declaration shows Russia's war still can't get the international backing that Moscow wants (2024-10-24T07:36:46Z)\n",
      "15. China, Philippines continue to clash in South China Sea, with new flashpoint emerging (2024-10-07T09:30:00Z)\n",
      "16. What is the U.N. peacekeeping force stationed in Lebanon? (2024-10-11T22:22:00Z)\n",
      "17. The Meteoric Rise of Temu and Pinduoduo—and What Might Finally Slow Them Down (2024-10-04T06:00:00Z)\n",
      "18. China to offer Taliban tariff-free trade as it inches closer to isolated resource-rich regime (2024-10-25T05:48:24Z)\n",
      "19. Switzerland praises China-Brazil peace plan for Ukraine (2024-09-28T15:12:39Z)\n",
      "20. Putin once asked Elon Musk to not activate Starlink over Taiwan as a favor to Xi Jinping: report (2024-10-25T05:16:50Z)\n",
      "21. Anduril's Palmer Luckey slammed restrictions on AI use in the military (2024-10-02T05:42:13Z)\n",
      "22. Vietnam Accuses China of ‘Brutal’ Attack on Fishing Boat in South China Sea (2024-10-04T03:45:00Z)\n",
      "23. Global Catastrophe Looms as Key Ocean Current Nears Collapse, Experts Warn (2024-10-23T18:10:05Z)\n",
      "24. Video shows one of Taiwan's F-16s tracking a Chinese J-15 fighter jet with its sniper pod during war games (2024-10-15T19:24:34Z)\n",
      "25. World’s Top Uranium Miner Backs Nuclear Plant in Referendum (2024-10-07T10:04:10Z)\n",
      "26. Russia returns 500 dead soldiers to Ukraine as world leaders mull next steps (2024-10-18T14:56:58Z)\n",
      "27. DJI challenges its 'Chinese military company' Pentagon designation in court (2024-10-19T12:00:36Z)\n",
      "28. China’s Reusable Satellite Returns to Earth After Experimenting With Crop Mutations in Space (2024-10-11T16:55:19Z)\n",
      "29. How the US Lost the Solar Power Race To China (2024-10-09T20:11:00Z)\n",
      "30. The US Navy is burning through missiles in the Middle East that it would need in a war with China (2024-10-11T08:00:01Z)\n",
      "31. White House warns China using overproduction for global dominance (2024-10-17T20:17:49Z)\n",
      "32. A US Navy missile that just scored its first kill this year got another workout against Iranian weapons (2024-10-03T14:28:06Z)\n",
      "33. Oil prices trim Middle East war risk-gains, China demand remains a worry (2024-10-22T01:29:29Z)\n",
      "34. Hard Nuclear Weapons Choices Await Harris or Trump as President (2024-10-03T10:45:00Z)\n",
      "35. Putin's dollar problem is on clear display at the BRICS summit, starting with the moment guests land at the airport (2024-10-23T09:08:09Z)\n",
      "36. Xi undercut the West by negotiating a truce in China's long feud with India (2024-10-25T15:46:11Z)\n",
      "37. Dow Jones Futures Rise; Nvidia Climbs In Buy Area As China Stocks Sell Off (2024-10-08T13:12:07Z)\n",
      "38. Zelensky presents 'victory plan' to Ukrainian parliament (2024-10-16T11:24:29Z)\n",
      "39. Russia rolled out a Soviet howitzer from the 1940s that Moscow technically shouldn't have in the first place (2024-10-14T06:06:46Z)\n",
      "40. Taiwan's president is doubling down on sticking it to Beijing, saying China can't be the 'motherland' because its government is younger (2024-10-07T05:21:08Z)\n",
      "41. The Ukraine War Can’t End Until Russia Stops Fighting (2024-10-02T12:00:00Z)\n",
      "42. Putin scores a BRICS win with rare Xi and Modi show of harmony (2024-10-23T09:08:41Z)\n",
      "43. Russia has decided 'at highest level' to remove Taliban from terrorist list, TASS reports (2024-10-04T10:23:43Z)\n",
      "44. China-Linked Hackers Target US Internet Providers in Latest Attack (2024-09-30T22:35:00Z)\n",
      "45. DJI sues the US Department of Defense for labeling it a ‘Chinese Military Company’ (2024-10-19T07:28:04Z)\n",
      "46. The U.S. Is Electing a Wartime President (2024-10-22T16:25:00Z)\n",
      "47. WATCH: Giant pandas from China arrive at the National Zoo in DC (2024-10-15T23:40:41Z)\n",
      "48. Two men deny spying for China (2024-10-04T16:25:44Z)\n",
      "49. Taiwan's APCB to shift printed circuit board assembly to mainland unit, cut jobs on island (2024-10-09T09:30:00Z)\n",
      "50. Billionaire investor Ray Dalio has a solution for China, but it'll need Beijing to radically remake its own rules (2024-10-02T07:02:59Z)\n",
      "51. Meet the Winner of the Nobel Peace Prize—Nihon Hidankyo (2024-10-11T14:51:21Z)\n",
      "52. WATCH: 2 giant pandas headed from China to the National Zoo in Washington DC (2024-10-15T10:40:04Z)\n",
      "53. Drones, threats and explosions: Why Korean tensions are rising (2024-10-15T22:02:19Z)\n",
      "54. Young Chinese are looking for dupes and cheaper substitutes for everything from Hermès to travel (2024-09-30T00:00:02Z)\n",
      "55. 3 of China's Tesla rivals had a record month, putting pressure on Elon Musk (2024-10-01T10:04:03Z)\n",
      "Articles saved to news_api_utilities_one_month_geopolitical.csv\n"
     ]
    }
   ],
   "source": [
    "primary_buzzwords = [\"duke\", \"energy\", \"duk\", \"consolidated\", \"edison\", \"ed\", \"electricity\",\n",
    "                     \"water supply\",\"solar\",\"wind\",\"hydropower\",\"energy prices\",\"climate change\",\"public utilities\"]\n",
    "scraper = FinanceNewsAPIScraper(api_keys[1], primary_buzzwords, secondary_buzzwords, start_date, end_date, required_percentage, retry_after)\n",
    "filtered_articles = scraper.scrape_and_filter_news()\n",
    "scraper.save_to_csv(filtered_articles, \"news_api_utilities_one_month_geopolitical.csv\")"
   ]
  },
  {
   "cell_type": "markdown",
   "metadata": {},
   "source": [
    "**Industry Focus:** `Healthcare sector`\n",
    "\n",
    "**Timeline:** `One month`\n",
    "\n",
    "In the US the two biggest stocks in this industry are `UnitedHealth Group` (UNH) and `Johnson & Johnson` (JNJ)\n",
    "\n",
    "*Stock Focus*: `UNH`, `JNJ`."
   ]
  },
  {
   "cell_type": "code",
   "execution_count": 136,
   "metadata": {},
   "outputs": [
    {
     "name": "stdout",
     "output_type": "stream",
     "text": [
      "1. I’m a doctor — these are the 3 worst chemicals in your food that could damage your health (2024-10-25T14:42:45Z)\n",
      "2. Ransomware gang Trinity joins pile of scumbags targeting healthcare (2024-10-09T13:45:08Z)\n",
      "3. UMC Health System diverted patients following a ransomware attack (2024-10-01T18:00:18Z)\n",
      "4. A cyberattack on Kuwait Health Ministry impacted hospitals in the country (2024-09-28T06:11:16Z)\n",
      "5. Top Foreign-Policy Takeaways From the Vice Presidential Debate (2024-10-02T04:38:57Z)\n",
      "6. How Big Oil is Astroturfing opposition to Wind and Solar, and Helping Destroy the Earth (2024-10-09T04:06:52Z)\n",
      "Articles saved to news_api_health_one_month_geopolitical.csv\n"
     ]
    }
   ],
   "source": [
    "primary_buzzwords = [\"united health group\", \"health\", \"unh\", \"johnson & johnson\",\"jnj\",\"pharmaceuticals\"\n",
    "                     ,\"biotechnology\",\"drug\", \"clinical\",\"fda\"]\n",
    "scraper = FinanceNewsAPIScraper(api_keys[0], primary_buzzwords, secondary_buzzwords, start_date, end_date, required_percentage, retry_after)\n",
    "filtered_articles = scraper.scrape_and_filter_news()\n",
    "scraper.save_to_csv(filtered_articles, \"news_api_health_one_month_geopolitical.csv\")"
   ]
  },
  {
   "cell_type": "markdown",
   "metadata": {},
   "source": [
    "**Industry Focus:** `Financials sector`\n",
    "\n",
    "**Timeline:** `One month`\n",
    "\n",
    "In the US the two biggest stocks in this industry are `Berkshire Hathaway` (BRK.A and BRK.B) and `JPMorgan Chase` (JPM)\n",
    "\n",
    "*Stock Focus*: `BRK.A`, `BRK.BH`,`JPM`,`BAC`,`USB`, `pypl`."
   ]
  },
  {
   "cell_type": "code",
   "execution_count": 137,
   "metadata": {},
   "outputs": [
    {
     "name": "stdout",
     "output_type": "stream",
     "text": [
      "1. Stock market today: Tech rally leads stocks higher as oil prices plunge and earnings kick off (2024-10-08T20:12:25Z)\n",
      "2. Efforts by the US to counter China in the South China Sea could backfire (2024-10-12T07:00:01Z)\n",
      "3. BRICS' new declaration shows Russia's war still can't get the international backing that Moscow wants (2024-10-24T07:36:46Z)\n",
      "4. Investing in China's stock market is like 'picking up dimes in front of bulldozers' given the nation's long-running stagnation, 'Big Short' investor Kyle Bass says (2024-10-01T18:30:44Z)\n",
      "5. Putin's dollar problem is on clear display at the BRICS summit, starting with the moment guests land at the airport (2024-10-23T09:08:09Z)\n",
      "6. China could raise nearly $1 trillion of fresh debt in the next 3 years to revive its economy (2024-10-16T16:52:44Z)\n",
      "7. The US Navy is burning through missiles in the Middle East that it would need in a war with China (2024-10-11T08:00:01Z)\n",
      "8. Why Chinese stocks will climb another 50% from current levels, research CEO says (2024-10-11T14:54:59Z)\n",
      "9. China's stimulus isn't enough for its economic woes. But its stock rally could help. (2024-09-30T08:21:20Z)\n",
      "10. China nuclear sub sank in its dock, US officials say (2024-09-27T15:35:26Z)\n",
      "11. Dow Jones Futures Rise; Nvidia Climbs In Buy Area As China Stocks Sell Off (2024-10-08T13:12:07Z)\n",
      "12. China's retail investors are eyeing the stock market reopening after a weeklong break (2024-10-07T09:10:14Z)\n",
      "13. China property shares jump as major cities ease buying curbs (2024-09-30T01:53:27Z)\n",
      "14. Dodge-parent Stellantis tumbles on warning, dragging auto stocks lower (2024-09-30T16:51:30Z)\n",
      "15. The Week in Numbers: a shot of stimulus (2024-09-27T10:06:55Z)\n",
      "16. Dior and Gucci owners suffer $14 billion wealth crash as luxury stocks slide (2024-10-08T11:43:57Z)\n",
      "17. World’s Top Uranium Miner Backs Nuclear Plant in Referendum (2024-10-07T10:04:10Z)\n",
      "Articles saved to news_api_finance_one_month_geopolitical.csv\n"
     ]
    }
   ],
   "source": [
    "primary_buzzwords = [\"berkshire\",\"hathaway\",\"jp morgan\",\"j.p. morgan\",\"chase\",\"bank\",\"of america\",\n",
    "                     \"brk.a\",\"brk.b\",\"bac\",\"usb\",\"paypal\",\"pypl\",\"stock\",\"interest rates\",\"inflation\",\n",
    "                     \"bonds\",\"capital\",\"investment\"]\n",
    "scraper = FinanceNewsAPIScraper(api_keys[1], primary_buzzwords, secondary_buzzwords, start_date, end_date, required_percentage, retry_after)\n",
    "filtered_articles = scraper.scrape_and_filter_news()\n",
    "scraper.save_to_csv(filtered_articles, \"news_api_finance_one_month_geopolitical.csv\")"
   ]
  },
  {
   "cell_type": "markdown",
   "metadata": {},
   "source": [
    "**Industry Focus:** `Consumers sector`\n",
    "\n",
    "**Timeline:** `One month`\n",
    "\n",
    "In the US the biggest stocks in this industry are `Coca-Cola` (KO), `Procter & Gamble` (PG), `Amazon` (AMZN), `Tesla` (TSLA) and McDonald's` (MCD)\n",
    "\n",
    "*Stock Focus*: `KO`, `PG`, `AMZN`, `MCD`, `TSLA`,`TM`"
   ]
  },
  {
   "cell_type": "code",
   "execution_count": 138,
   "metadata": {},
   "outputs": [
    {
     "name": "stdout",
     "output_type": "stream",
     "text": [
      "1. India and China agree to de-escalate border tensions (2024-10-21T11:06:40Z)\n",
      "2. 3 of China's Tesla rivals had a record month, putting pressure on Elon Musk (2024-10-01T10:04:03Z)\n",
      "3. The Meteoric Rise of Temu and Pinduoduo—and What Might Finally Slow Them Down (2024-10-04T06:00:00Z)\n",
      "4. Paris Motor Show opens during a brewing EV trade war between the EU and China (2024-10-14T17:14:36Z)\n",
      "5. Dow Jones Futures Rise; Nvidia Climbs In Buy Area As China Stocks Sell Off (2024-10-08T13:12:07Z)\n",
      "6. How America Must Stand Up to Putin’s ‘Axis of Evil’ (2024-10-24T17:00:04Z)\n",
      "7. China's economic issues are so serious that even the oil market doesn't care about Middle East tensions — for now (2024-10-01T06:38:56Z)\n",
      "8. BlackRock's CEO says China is the biggest supporter of Russia's economy amidst the Ukraine war (2024-10-02T06:10:04Z)\n",
      "9. A defiant Putin closes global summit aimed at reshaping global order (2024-10-25T03:50:30Z)\n",
      "10. This Chinese EV maker is up for a battle with Elon Musk in China (2024-10-15T09:46:36Z)\n",
      "11. BRICS' new declaration shows Russia's war still can't get the international backing that Moscow wants (2024-10-24T07:36:46Z)\n",
      "12. China, Philippines continue to clash in South China Sea, with new flashpoint emerging (2024-10-07T09:30:00Z)\n",
      "13. Global EV Sales Up 30.5% In September (2024-10-15T22:50:00Z)\n",
      "14. Ford CEO Has Been Driving a Xiaomi EV for 6 Months and ‘Doesn’t Want to Give It Up’ (2024-10-25T15:10:58Z)\n",
      "15. EU countries vote to impose duties on China EVs ahead of an end-of-October deadline (2024-10-04T13:34:15Z)\n",
      "16. Switzerland praises China-Brazil peace plan for Ukraine (2024-09-28T15:12:39Z)\n",
      "17. Video shows one of Taiwan's F-16s tracking a Chinese J-15 fighter jet with its sniper pod during war games (2024-10-15T19:24:34Z)\n",
      "18. We should be learning from Chinese EV players, not shutting them out of Europe — auto bosses say (2024-10-15T14:00:38Z)\n",
      "19. Exclusive-Qatar LNG sales to key Asian markets confronted by US, UAE rivalry (2024-10-21T10:40:22Z)\n",
      "20. A US Navy missile that just scored its first kill this year got another workout against Iranian weapons (2024-10-03T14:28:06Z)\n",
      "21. Putin's dollar problem is on clear display at the BRICS summit, starting with the moment guests land at the airport (2024-10-23T09:08:09Z)\n",
      "22. EU hits China with tariffs in electric car sales battle (2024-10-04T09:43:35Z)\n",
      "23. Exclusive-China's Chery assembles cars in Russian plants vacated by Western rivals (2024-10-10T06:03:03Z)\n",
      "24. Hard Nuclear Weapons Choices Await Harris or Trump as President (2024-10-03T10:45:00Z)\n",
      "25. Russia rolled out a Soviet howitzer from the 1940s that Moscow technically shouldn't have in the first place (2024-10-14T06:06:46Z)\n",
      "26. The CEO of Ford says he's been driving a Xiaomi EV for the past 6 months and doesn't want to give it up (2024-10-23T11:59:16Z)\n",
      "27. Ford CEO admits he drives a Chinese electric vehicle and doesn't want to give it up (2024-10-24T20:45:07Z)\n",
      "28. China's EV giants shine at Europe's largest auto show while local rivals despair (2024-10-16T13:45:28Z)\n",
      "29. Russia has decided 'at highest level' to remove Taliban from terrorist list, TASS reports (2024-10-04T10:23:43Z)\n",
      "30. DJI challenges its 'Chinese military company' Pentagon designation in court (2024-10-19T12:00:36Z)\n",
      "31. Oil prices trim Middle East war risk-gains, China demand remains a worry (2024-10-22T01:29:29Z)\n",
      "32. VW CEO: Chinese automakers should be allowed to avert tariffs by investing in EU (2024-10-05T22:02:03Z)\n",
      "33. China's retail investors are eyeing the stock market reopening after a weeklong break (2024-10-07T09:10:14Z)\n",
      "34. Taiwan taps satellite hookups to help down invading drones (2024-10-18T11:00:00Z)\n",
      "35. China-Linked Hackers Target US Internet Providers in Latest Attack (2024-09-30T22:35:00Z)\n",
      "36. 11 Things You Should Never Put in the Dishwasher (2024-10-25T12:10:03Z)\n",
      "37. Young Chinese are looking for dupes and cheaper substitutes for everything from Hermès to travel (2024-09-30T00:00:02Z)\n",
      "38. EV firm Polestar expects positive fourth-quarter gross margin despite slow demand (2024-10-11T11:33:37Z)\n",
      "Articles saved to news_api_consumers_one_month_geopolitical.csv\n"
     ]
    }
   ],
   "source": [
    "primary_buzzwords = [\"coca-cola\",\"ko\",\"procter & gamble\",\"pg\",\"amazon\",\"macdonald's\",\"amzn\"\n",
    "                     ,\"mcd\",\"retail\",\"supply chain\",\"household\"\n",
    "                     ,\"automobile\",\"tesla\",\"tsla\",\"toyota\",\"tm\",\"vehicles\",\"car\"\n",
    "                     ,\"ev\",\"electric\"]\n",
    "scraper = FinanceNewsAPIScraper(api_keys[1], primary_buzzwords, secondary_buzzwords, start_date, end_date, required_percentage, retry_after)\n",
    "filtered_articles = scraper.scrape_and_filter_news()\n",
    "scraper.save_to_csv(filtered_articles, \"news_api_consumers_one_month_geopolitical.csv\")"
   ]
  },
  {
   "cell_type": "markdown",
   "metadata": {},
   "source": [
    "**Industry Focus:** `IT sector`\n",
    "\n",
    "**Timeline:** `One month`\n",
    "\n",
    "In the US the biggest stocks in this industry are `Apple` (AAPL), and `Microsoft` (MSFT)\n",
    "*Stock Focus*: `AAPL`, `MSFT`, `QCOM`, `NVDA`, `CRWD`"
   ]
  },
  {
   "cell_type": "code",
   "execution_count": 139,
   "metadata": {},
   "outputs": [
    {
     "name": "stdout",
     "output_type": "stream",
     "text": [
      "1. Tim Walz Called To Eliminate Spending on National Missile Defense (2024-10-14T09:00:12Z)\n",
      "Articles saved to news_api_it_one_month_geopolitical.csv\n"
     ]
    }
   ],
   "source": [
    "primary_buzzwords = [\"crowd strike holdings\",\"crwd\",\"apple\",\"microsoft\",\"chips\",\n",
    "                     \"qualcomm\", \"nvidia\",\"information\",\"technology\",\"cybersecurity\"\n",
    "                     ,\"semiconductors\",\" ai \",\"artificial\",\"iphone\",\"macbook\",\"tim cook\",\"bill gates\"]\n",
    "scraper = FinanceNewsAPIScraper(api_keys[4], primary_buzzwords, secondary_buzzwords, start_date, end_date, required_percentage, retry_after)\n",
    "filtered_articles = scraper.scrape_and_filter_news()\n",
    "scraper.save_to_csv(filtered_articles, \"news_api_it_one_month_geopolitical.csv\")"
   ]
  },
  {
   "cell_type": "markdown",
   "metadata": {},
   "source": [
    "**Industry Focus:** `Communication services sector`\n",
    "\n",
    "**Timeline:** `One month`\n",
    "\n",
    "In the US the biggest stocks in this industry are `Facebook` (FB), and `Alphabet` (GOOG)\n",
    "*Stock Focus*: `FB`, `GOOG`, `WBD`, `NFLX`"
   ]
  },
  {
   "cell_type": "code",
   "execution_count": 140,
   "metadata": {},
   "outputs": [
    {
     "name": "stdout",
     "output_type": "stream",
     "text": [
      "1. China-Linked Hackers Target US Internet Providers in Latest Attack (2024-09-30T22:35:00Z)\n",
      "2. Apple Shares Trailer for 'Submerged' Immersive Vision Pro Short Film (2024-10-07T16:23:10Z)\n",
      "3. U.S. Wiretap Systems Targeted in China-Linked Hack (2024-10-05T21:21:00Z)\n",
      "4. Apple Launches 'Submerged' Short Film for Vision Pro, Outlines Upcoming Content (2024-10-10T16:23:53Z)\n",
      "5. China Cyber Association Calls For Review of Intel Products Sold In China (2024-10-17T10:00:00Z)\n",
      "6. A year after October 7: How Hamas’s attack and Israel’s response broke the world (2024-10-04T13:35:07Z)\n",
      "Articles saved to news_api_communication_one_month_geopolitical.csv\n"
     ]
    }
   ],
   "source": [
    "primary_buzzwords = [\"facebook\",\"meta\",\"fb\",\"alphabet\",\"goog\",\"warner bros\",\"wbd\",\"netflix\",\"nflx\"\n",
    "                     ,\"broadband\",\"5g\",\"media\",\"ott\",\"television\",\"streaming\",\"platforms\",\"film\"\n",
    "                     ,\"movie\",\"industry\"]\n",
    "scraper = FinanceNewsAPIScraper(api_keys[1], primary_buzzwords, secondary_buzzwords, start_date, end_date, required_percentage, retry_after)\n",
    "filtered_articles = scraper.scrape_and_filter_news()\n",
    "scraper.save_to_csv(filtered_articles, \"news_api_communication_one_month_geopolitical.csv\")"
   ]
  },
  {
   "cell_type": "markdown",
   "metadata": {},
   "source": [
    "**Industry Focus:** `Real estate sector`\n",
    "\n",
    "**Timeline:** `One month`\n",
    "\n",
    "In the US the biggest stocks in this industry are `American Tower` (AMT), and `Simon Property Group` (SPG)\n",
    "*Stock Focus*: `AMT`, `SPG`"
   ]
  },
  {
   "cell_type": "code",
   "execution_count": 141,
   "metadata": {},
   "outputs": [
    {
     "name": "stdout",
     "output_type": "stream",
     "text": [
      "1. Iran and China-linked actors used ChatGPT for preparing attacks (2024-10-11T11:05:49Z)\n",
      "2. How Big Oil is Astroturfing opposition to Wind and Solar, and Helping Destroy the Earth (2024-10-09T04:06:52Z)\n",
      "3. Amanda Ba’s Surreal New Exhibition Grapples with Chinese Values (2024-09-27T16:22:00Z)\n",
      "Articles saved to news_api_realestate_one_month_geopolitical.csv\n"
     ]
    }
   ],
   "source": [
    "primary_buzzwords = [\"american tower\",\"amt\",\"simon property group\",\"spg\",\"real\",\"estate\",\"commercial\"\n",
    "                     ,\"residential\",\"property\",\"housing\",\"rental\",\"home\",\"prices\",\"mortgage\",\"land\"\n",
    "                     \"bubble\",\"loan\",\"urban\",\"planning\"]\n",
    "scraper = FinanceNewsAPIScraper(api_keys[1], primary_buzzwords, secondary_buzzwords, start_date, end_date, required_percentage, retry_after)\n",
    "filtered_articles = scraper.scrape_and_filter_news()\n",
    "scraper.save_to_csv(filtered_articles, \"news_api_realestate_one_month_geopolitical.csv\")"
   ]
  },
  {
   "cell_type": "code",
   "execution_count": null,
   "metadata": {},
   "outputs": [],
   "source": []
  }
 ],
 "metadata": {
  "kernelspec": {
   "display_name": "erdos_fall_2024",
   "language": "python",
   "name": "python3"
  },
  "language_info": {
   "codemirror_mode": {
    "name": "ipython",
    "version": 3
   },
   "file_extension": ".py",
   "mimetype": "text/x-python",
   "name": "python",
   "nbconvert_exporter": "python",
   "pygments_lexer": "ipython3",
   "version": "3.12.5"
  }
 },
 "nbformat": 4,
 "nbformat_minor": 2
}
